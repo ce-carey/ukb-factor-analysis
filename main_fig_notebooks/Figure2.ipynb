{
 "cells": [
  {
   "cell_type": "code",
   "execution_count": 1,
   "metadata": {},
   "outputs": [],
   "source": [
    "import pandas as pd\n",
    "import numpy as np\n",
    "from itertools import chain\n",
    "import patsy\n",
    "import plotly.express as px\n",
    "import matplotlib.pyplot as plt\n",
    "import seaborn as sns\n",
    "import datetime\n",
    "from lifelines.utils import datetimes_to_durations\n",
    "from lifelines import CoxPHFitter\n",
    "%matplotlib inline"
   ]
  },
  {
   "cell_type": "code",
   "execution_count": 2,
   "metadata": {},
   "outputs": [],
   "source": [
    "sample = pd.read_table('/psych/genetics_data/ccarey/UKBB/ukb_files/ukb_whitebritish.txt',sep=\" \",index_col=\"IID\")\n",
    "with open(\"/stanley/genetics/datasets/ukb31063/ukb31063.withdrawn_participants.20210809.csv\",\"r\") as f:\n",
    "        withdraw = f.read().split()\n",
    "final_sample = np.setdiff1d(sample.index,withdraw)"
   ]
  },
  {
   "cell_type": "code",
   "execution_count": 3,
   "metadata": {},
   "outputs": [],
   "source": [
    "rawcols_baseline = pd.read_table('/stanley/robinson/ccarey/UKBB/ukb_files/ukb31063.raw_phenotypes.tsv',nrows=0)"
   ]
  },
  {
   "cell_type": "code",
   "execution_count": 4,
   "metadata": {},
   "outputs": [],
   "source": [
    "mycols_baseline = [\"eid\",\"53-0.0\",'21003-0.0','105010-0.0', '105010-1.0', '105010-2.0', '105010-3.0', '105010-4.0','20400-0.0','22500-0.0','3894-0.0',\"3992-0.0\",\"3627-0.0\",\"2966-0.0\",\"3786-0.0\",\"3761-0.0\",\"2976-0.0\",\"4689-0.0\",\"4700-0.0\",\"5945-0.0\",\"20433-0.0\"]"
   ]
  },
  {
   "cell_type": "code",
   "execution_count": 5,
   "metadata": {},
   "outputs": [],
   "source": [
    "mycol_labels_baseline = [\"sample\", \"age_at_baseline\",\"date_baseline\",\"date_diet1\",\"date_diet2\",\"date_diet3\",\"date_diet4\",\"date_mhq\",\"date_work\",\"age_heartattack\",\"age_emphysema\",\"age_angina\",\"age_hypertension\",\"age_asthma\",\"age_hayfever\",\"age_diabetes\",\"age_glaucoma\",\"age_cataract\",\"age_eyeother\",\"age_depression_mhq\"]"
   ]
  },
  {
   "cell_type": "code",
   "execution_count": 6,
   "metadata": {},
   "outputs": [],
   "source": [
    "coldict_baseline = dict(zip(mycols_baseline,mycol_labels_baseline))"
   ]
  },
  {
   "cell_type": "code",
   "execution_count": 7,
   "metadata": {},
   "outputs": [],
   "source": [
    "raw_baseline = pd.read_table('/stanley/robinson/ccarey/UKBB/ukb_files/ukb31063.raw_phenotypes.tsv',usecols=mycols_baseline,index_col=\"eid\",dtype=object)"
   ]
  },
  {
   "cell_type": "code",
   "execution_count": 8,
   "metadata": {},
   "outputs": [],
   "source": [
    "mycols_birth = [\"eid\",\"34-0.0\",\"52-0.0\"]"
   ]
  },
  {
   "cell_type": "code",
   "execution_count": 9,
   "metadata": {},
   "outputs": [],
   "source": [
    "mycol_labels_birth = [\"sample\", \"birth_year\", \"birth_month\"]"
   ]
  },
  {
   "cell_type": "code",
   "execution_count": 10,
   "metadata": {},
   "outputs": [],
   "source": [
    "coldict_birth = dict(zip(mycols_birth,mycol_labels_birth))"
   ]
  },
  {
   "cell_type": "code",
   "execution_count": 11,
   "metadata": {},
   "outputs": [],
   "source": [
    "birth = pd.read_csv('/stanley/robinson/ccarey/UKBB/factor_gwas/factor_analysis/cfa/FINAL_CFA/FACTOR_SCORES/PHEWAS/mortality/ukb41114.csv',usecols=mycols_birth,index_col=\"eid\")"
   ]
  },
  {
   "cell_type": "code",
   "execution_count": 12,
   "metadata": {},
   "outputs": [],
   "source": [
    "death = pd.read_table('/stanley/robinson/ccarey/UKBB/factor_gwas/factor_analysis/cfa/FINAL_CFA/FACTOR_SCORES/PHEWAS/mortality/ukb31063.death.20211215.txt',usecols=[\"eid\",\"dsource\",\"date_of_death\"],index_col=\"eid\")"
   ]
  },
  {
   "cell_type": "code",
   "execution_count": 13,
   "metadata": {},
   "outputs": [],
   "source": [
    "dates_raw=raw_baseline[[\"53-0.0\",\"105010-0.0\",\"105010-1.0\",\"105010-2.0\",\"105010-3.0\",\"105010-4.0\",\"20400-0.0\",\"22500-0.0\"]]"
   ]
  },
  {
   "cell_type": "code",
   "execution_count": 14,
   "metadata": {},
   "outputs": [],
   "source": [
    "dates = dates_raw.apply(lambda x: pd.to_datetime(x).dt.date,axis=1)"
   ]
  },
  {
   "cell_type": "code",
   "execution_count": 15,
   "metadata": {},
   "outputs": [],
   "source": [
    "t0array = pd.DataFrame(dates.apply(lambda x: [y for y in list(x[:]) if not pd.isna(y)],axis=1))"
   ]
  },
  {
   "cell_type": "code",
   "execution_count": 16,
   "metadata": {},
   "outputs": [],
   "source": [
    "t0array[\"t0\"] = t0array[0].apply(lambda x: max(x))"
   ]
  },
  {
   "cell_type": "code",
   "execution_count": 17,
   "metadata": {},
   "outputs": [],
   "source": [
    "covs = pd.read_table(\"/stanley/robinson/ccarey/UKBB/factor_gwas/factor_analysis/cfa/FINAL_CFA/FACTOR_SCORES/core/wls_gwas/to_gwas/full_covs.csv\",sep=\",\",index_col=\"userId\")\n",
    "covs.isFemale = covs.isFemale.astype(int)"
   ]
  },
  {
   "cell_type": "code",
   "execution_count": 18,
   "metadata": {},
   "outputs": [],
   "source": [
    "fs_rescored = pd.read_csv('/stanley/robinson/ccarey/UKBB/factor_gwas/factor_analysis/cfa/FINAL_CFA/FACTOR_SCORES/PHEWAS/mortality/FS_newcode_full_semifinal_ind_rescored.csv').set_index(\"s\")"
   ]
  },
  {
   "cell_type": "code",
   "execution_count": 19,
   "metadata": {},
   "outputs": [],
   "source": [
    "fs_ind = pd.read_csv('/stanley/robinson/ccarey/UKBB/factor_gwas/factor_analysis/cfa/FINAL_CFA/FACTOR_SCORES/core/newcode/semifinalfullind/FS_newcode_full_semifinal_ind.csv').set_index(\"s\")\n",
    "#wt_ind = pd.read_csv('/stanley/robinson/ccarey/UKBB/factor_gwas/factor_analysis/cfa/FINAL_CFA/FACTOR_SCORES/core/newcode/semifinalfullind/WLSweight_newcode_full_semifinal_ind.csv').set_index(\"s\")\n",
    "misscor_ind = pd.read_csv('/stanley/robinson/ccarey/UKBB/factor_gwas/factor_analysis/cfa/FINAL_CFA/FACTOR_SCORES/core/newcode/semifinalfullind/MissCor_newcode_full_semifinal_ind.csv').set_index(\"s\")"
   ]
  },
  {
   "cell_type": "code",
   "execution_count": 20,
   "metadata": {},
   "outputs": [],
   "source": [
    "fs_dep = pd.read_csv('/stanley/robinson/ccarey/UKBB/factor_gwas/factor_analysis/cfa/FINAL_CFA/FACTOR_SCORES/core/wls_gwas/FINAL/FS_newcode_full_semifinal.csv').set_index(\"s\")\n",
    "wt_dep = pd.read_csv('/stanley/robinson/ccarey/UKBB/factor_gwas/factor_analysis/cfa/FINAL_CFA/FACTOR_SCORES/core/wls_gwas/FINAL/WLSweight_newcode_full_semifinal.csv').set_index(\"s\")\n",
    "misscor_dep = pd.read_csv('/stanley/robinson/ccarey/UKBB/factor_gwas/factor_analysis/cfa/FINAL_CFA/FACTOR_SCORES/core/wls_gwas/FINAL/MissCor_newcode_full_semifinal.csv').set_index(\"s\")"
   ]
  },
  {
   "cell_type": "code",
   "execution_count": 21,
   "metadata": {},
   "outputs": [],
   "source": [
    "fs_rescored[misscor_ind<np.sqrt(0.8)] = np.nan\n",
    "fs_rescored[misscor_dep<np.sqrt(0.8)] = np.nan\n",
    "fs_rescored.f27[misscor_dep.f27<np.sqrt(0.9)] = np.nan\n",
    "fs_rescored[fs_dep.isna()] = np.nan"
   ]
  },
  {
   "cell_type": "code",
   "execution_count": 22,
   "metadata": {},
   "outputs": [],
   "source": [
    "fs_rescored[\"f4\"] = fs_rescored.f4*-1\n",
    "fs_rescored[\"f10\"] = fs_rescored.f10*-1\n",
    "fs_rescored[\"f14\"] = fs_rescored.f14*-1\n",
    "fs_rescored[\"f19\"] = fs_rescored.f19*-1\n",
    "fs_rescored[\"f23\"] = fs_rescored.f23*-1\n",
    "fs_rescored[\"f24\"] = fs_rescored.f24*-1\n",
    "fs_rescored[\"f36\"] = fs_rescored.f36*-1"
   ]
  },
  {
   "cell_type": "code",
   "execution_count": 23,
   "metadata": {},
   "outputs": [],
   "source": [
    "toplot = pd.DataFrame(index=fs_rescored.columns,columns=[\"hr\",\"hr_lower\",\"hr_upper\",\"p\",\"n\"])"
   ]
  },
  {
   "cell_type": "code",
   "execution_count": 24,
   "metadata": {},
   "outputs": [
    {
     "name": "stdout",
     "output_type": "stream",
     "text": [
      "f1\n"
     ]
    },
    {
     "name": "stderr",
     "output_type": "stream",
     "text": [
      "/home/unix/rwalters/py39haillibs/lib/python3.9/site-packages/lifelines/utils/__init__.py:1102: ConvergenceWarning: Column(s) ['PC10', 'PC11', 'PC12', 'PC13', 'PC14', 'PC15', 'PC16', 'PC17', 'PC18', 'PC19', 'PC2', 'PC20', 'PC3', 'PC4', 'PC5', 'PC6', 'PC7', 'PC8', 'PC9'] have very low variance. This may harm convergence. 1) Are you using formula's? Did you mean to add '-1' to the end. 2) Try dropping this redundant column before fitting if convergence fails.\n",
      "\n",
      "  warnings.warn(dedent(warning_text), ConvergenceWarning)\n"
     ]
    },
    {
     "name": "stdout",
     "output_type": "stream",
     "text": [
      "f10\n"
     ]
    },
    {
     "name": "stderr",
     "output_type": "stream",
     "text": [
      "/home/unix/rwalters/py39haillibs/lib/python3.9/site-packages/lifelines/utils/__init__.py:1102: ConvergenceWarning: Column(s) ['PC10', 'PC11', 'PC12', 'PC13', 'PC14', 'PC15', 'PC16', 'PC17', 'PC18', 'PC19', 'PC2', 'PC20', 'PC3', 'PC4', 'PC5', 'PC6', 'PC7', 'PC8', 'PC9'] have very low variance. This may harm convergence. 1) Are you using formula's? Did you mean to add '-1' to the end. 2) Try dropping this redundant column before fitting if convergence fails.\n",
      "\n",
      "  warnings.warn(dedent(warning_text), ConvergenceWarning)\n"
     ]
    },
    {
     "name": "stdout",
     "output_type": "stream",
     "text": [
      "f11\n"
     ]
    },
    {
     "name": "stderr",
     "output_type": "stream",
     "text": [
      "/home/unix/rwalters/py39haillibs/lib/python3.9/site-packages/lifelines/utils/__init__.py:1102: ConvergenceWarning: Column(s) ['PC10', 'PC11', 'PC12', 'PC13', 'PC14', 'PC15', 'PC16', 'PC17', 'PC18', 'PC19', 'PC2', 'PC20', 'PC3', 'PC4', 'PC5', 'PC6', 'PC7', 'PC8', 'PC9'] have very low variance. This may harm convergence. 1) Are you using formula's? Did you mean to add '-1' to the end. 2) Try dropping this redundant column before fitting if convergence fails.\n",
      "\n",
      "  warnings.warn(dedent(warning_text), ConvergenceWarning)\n"
     ]
    },
    {
     "name": "stdout",
     "output_type": "stream",
     "text": [
      "f12\n"
     ]
    },
    {
     "name": "stderr",
     "output_type": "stream",
     "text": [
      "/home/unix/rwalters/py39haillibs/lib/python3.9/site-packages/lifelines/utils/__init__.py:1102: ConvergenceWarning: Column(s) ['PC10', 'PC11', 'PC12', 'PC13', 'PC14', 'PC15', 'PC16', 'PC17', 'PC18', 'PC19', 'PC2', 'PC20', 'PC3', 'PC4', 'PC5', 'PC6', 'PC7', 'PC8', 'PC9'] have very low variance. This may harm convergence. 1) Are you using formula's? Did you mean to add '-1' to the end. 2) Try dropping this redundant column before fitting if convergence fails.\n",
      "\n",
      "  warnings.warn(dedent(warning_text), ConvergenceWarning)\n"
     ]
    },
    {
     "name": "stdout",
     "output_type": "stream",
     "text": [
      "f13\n"
     ]
    },
    {
     "name": "stderr",
     "output_type": "stream",
     "text": [
      "/home/unix/rwalters/py39haillibs/lib/python3.9/site-packages/lifelines/utils/__init__.py:1102: ConvergenceWarning: Column(s) ['PC10', 'PC11', 'PC12', 'PC13', 'PC14', 'PC15', 'PC16', 'PC17', 'PC18', 'PC19', 'PC2', 'PC20', 'PC3', 'PC4', 'PC5', 'PC6', 'PC7', 'PC8', 'PC9'] have very low variance. This may harm convergence. 1) Are you using formula's? Did you mean to add '-1' to the end. 2) Try dropping this redundant column before fitting if convergence fails.\n",
      "\n",
      "  warnings.warn(dedent(warning_text), ConvergenceWarning)\n"
     ]
    },
    {
     "name": "stdout",
     "output_type": "stream",
     "text": [
      "f14\n"
     ]
    },
    {
     "name": "stderr",
     "output_type": "stream",
     "text": [
      "/home/unix/rwalters/py39haillibs/lib/python3.9/site-packages/lifelines/utils/__init__.py:1102: ConvergenceWarning: Column(s) ['PC10', 'PC11', 'PC12', 'PC13', 'PC14', 'PC15', 'PC16', 'PC17', 'PC18', 'PC19', 'PC2', 'PC20', 'PC3', 'PC4', 'PC5', 'PC6', 'PC7', 'PC8', 'PC9'] have very low variance. This may harm convergence. 1) Are you using formula's? Did you mean to add '-1' to the end. 2) Try dropping this redundant column before fitting if convergence fails.\n",
      "\n",
      "  warnings.warn(dedent(warning_text), ConvergenceWarning)\n"
     ]
    },
    {
     "name": "stdout",
     "output_type": "stream",
     "text": [
      "f15\n"
     ]
    },
    {
     "name": "stderr",
     "output_type": "stream",
     "text": [
      "/home/unix/rwalters/py39haillibs/lib/python3.9/site-packages/lifelines/utils/__init__.py:1102: ConvergenceWarning: Column(s) ['PC10', 'PC11', 'PC12', 'PC13', 'PC14', 'PC15', 'PC16', 'PC17', 'PC18', 'PC19', 'PC2', 'PC20', 'PC3', 'PC4', 'PC5', 'PC6', 'PC7', 'PC8', 'PC9'] have very low variance. This may harm convergence. 1) Are you using formula's? Did you mean to add '-1' to the end. 2) Try dropping this redundant column before fitting if convergence fails.\n",
      "\n",
      "  warnings.warn(dedent(warning_text), ConvergenceWarning)\n"
     ]
    },
    {
     "name": "stdout",
     "output_type": "stream",
     "text": [
      "f16\n"
     ]
    },
    {
     "name": "stderr",
     "output_type": "stream",
     "text": [
      "/home/unix/rwalters/py39haillibs/lib/python3.9/site-packages/lifelines/utils/__init__.py:1102: ConvergenceWarning: Column(s) ['PC10', 'PC11', 'PC12', 'PC13', 'PC14', 'PC15', 'PC16', 'PC17', 'PC18', 'PC19', 'PC2', 'PC20', 'PC3', 'PC4', 'PC5', 'PC6', 'PC7', 'PC8', 'PC9'] have very low variance. This may harm convergence. 1) Are you using formula's? Did you mean to add '-1' to the end. 2) Try dropping this redundant column before fitting if convergence fails.\n",
      "\n",
      "  warnings.warn(dedent(warning_text), ConvergenceWarning)\n"
     ]
    },
    {
     "name": "stdout",
     "output_type": "stream",
     "text": [
      "f17\n"
     ]
    },
    {
     "name": "stderr",
     "output_type": "stream",
     "text": [
      "/home/unix/rwalters/py39haillibs/lib/python3.9/site-packages/lifelines/utils/__init__.py:1102: ConvergenceWarning: Column(s) ['PC10', 'PC11', 'PC12', 'PC13', 'PC14', 'PC15', 'PC16', 'PC17', 'PC18', 'PC19', 'PC2', 'PC20', 'PC3', 'PC4', 'PC5', 'PC6', 'PC7', 'PC8', 'PC9'] have very low variance. This may harm convergence. 1) Are you using formula's? Did you mean to add '-1' to the end. 2) Try dropping this redundant column before fitting if convergence fails.\n",
      "\n",
      "  warnings.warn(dedent(warning_text), ConvergenceWarning)\n"
     ]
    },
    {
     "name": "stdout",
     "output_type": "stream",
     "text": [
      "f18\n"
     ]
    },
    {
     "name": "stderr",
     "output_type": "stream",
     "text": [
      "/home/unix/rwalters/py39haillibs/lib/python3.9/site-packages/lifelines/utils/__init__.py:1102: ConvergenceWarning: Column(s) ['PC10', 'PC11', 'PC12', 'PC13', 'PC14', 'PC15', 'PC16', 'PC17', 'PC18', 'PC19', 'PC2', 'PC20', 'PC3', 'PC4', 'PC5', 'PC6', 'PC7', 'PC8', 'PC9'] have very low variance. This may harm convergence. 1) Are you using formula's? Did you mean to add '-1' to the end. 2) Try dropping this redundant column before fitting if convergence fails.\n",
      "\n",
      "  warnings.warn(dedent(warning_text), ConvergenceWarning)\n"
     ]
    },
    {
     "name": "stdout",
     "output_type": "stream",
     "text": [
      "f19\n"
     ]
    },
    {
     "name": "stderr",
     "output_type": "stream",
     "text": [
      "/home/unix/rwalters/py39haillibs/lib/python3.9/site-packages/lifelines/utils/__init__.py:1102: ConvergenceWarning: Column(s) ['PC10', 'PC11', 'PC12', 'PC13', 'PC14', 'PC15', 'PC16', 'PC17', 'PC18', 'PC19', 'PC2', 'PC20', 'PC3', 'PC4', 'PC5', 'PC6', 'PC7', 'PC8', 'PC9'] have very low variance. This may harm convergence. 1) Are you using formula's? Did you mean to add '-1' to the end. 2) Try dropping this redundant column before fitting if convergence fails.\n",
      "\n",
      "  warnings.warn(dedent(warning_text), ConvergenceWarning)\n"
     ]
    },
    {
     "name": "stdout",
     "output_type": "stream",
     "text": [
      "f2\n"
     ]
    },
    {
     "name": "stderr",
     "output_type": "stream",
     "text": [
      "/home/unix/rwalters/py39haillibs/lib/python3.9/site-packages/lifelines/utils/__init__.py:1102: ConvergenceWarning: Column(s) ['PC10', 'PC11', 'PC12', 'PC13', 'PC14', 'PC15', 'PC16', 'PC17', 'PC18', 'PC19', 'PC2', 'PC20', 'PC3', 'PC4', 'PC5', 'PC6', 'PC7', 'PC8', 'PC9'] have very low variance. This may harm convergence. 1) Are you using formula's? Did you mean to add '-1' to the end. 2) Try dropping this redundant column before fitting if convergence fails.\n",
      "\n",
      "  warnings.warn(dedent(warning_text), ConvergenceWarning)\n"
     ]
    },
    {
     "name": "stdout",
     "output_type": "stream",
     "text": [
      "f20\n"
     ]
    },
    {
     "name": "stderr",
     "output_type": "stream",
     "text": [
      "/home/unix/rwalters/py39haillibs/lib/python3.9/site-packages/lifelines/utils/__init__.py:1102: ConvergenceWarning: Column(s) ['PC10', 'PC11', 'PC12', 'PC13', 'PC14', 'PC15', 'PC16', 'PC17', 'PC18', 'PC19', 'PC2', 'PC20', 'PC3', 'PC4', 'PC5', 'PC6', 'PC7', 'PC8', 'PC9'] have very low variance. This may harm convergence. 1) Are you using formula's? Did you mean to add '-1' to the end. 2) Try dropping this redundant column before fitting if convergence fails.\n",
      "\n",
      "  warnings.warn(dedent(warning_text), ConvergenceWarning)\n"
     ]
    },
    {
     "name": "stdout",
     "output_type": "stream",
     "text": [
      "f21\n"
     ]
    },
    {
     "name": "stderr",
     "output_type": "stream",
     "text": [
      "/home/unix/rwalters/py39haillibs/lib/python3.9/site-packages/lifelines/utils/__init__.py:1102: ConvergenceWarning: Column(s) ['PC10', 'PC11', 'PC12', 'PC13', 'PC14', 'PC15', 'PC16', 'PC17', 'PC18', 'PC19', 'PC2', 'PC20', 'PC3', 'PC4', 'PC5', 'PC6', 'PC7', 'PC8', 'PC9'] have very low variance. This may harm convergence. 1) Are you using formula's? Did you mean to add '-1' to the end. 2) Try dropping this redundant column before fitting if convergence fails.\n",
      "\n",
      "  warnings.warn(dedent(warning_text), ConvergenceWarning)\n"
     ]
    },
    {
     "name": "stdout",
     "output_type": "stream",
     "text": [
      "f22\n"
     ]
    },
    {
     "name": "stderr",
     "output_type": "stream",
     "text": [
      "/home/unix/rwalters/py39haillibs/lib/python3.9/site-packages/lifelines/utils/__init__.py:1102: ConvergenceWarning: Column(s) ['PC10', 'PC11', 'PC12', 'PC13', 'PC14', 'PC15', 'PC16', 'PC17', 'PC18', 'PC19', 'PC2', 'PC20', 'PC3', 'PC4', 'PC5', 'PC6', 'PC7', 'PC8', 'PC9'] have very low variance. This may harm convergence. 1) Are you using formula's? Did you mean to add '-1' to the end. 2) Try dropping this redundant column before fitting if convergence fails.\n",
      "\n",
      "  warnings.warn(dedent(warning_text), ConvergenceWarning)\n"
     ]
    },
    {
     "name": "stdout",
     "output_type": "stream",
     "text": [
      "f23\n"
     ]
    },
    {
     "name": "stderr",
     "output_type": "stream",
     "text": [
      "/home/unix/rwalters/py39haillibs/lib/python3.9/site-packages/lifelines/utils/__init__.py:1102: ConvergenceWarning: Column(s) ['PC10', 'PC11', 'PC12', 'PC13', 'PC14', 'PC15', 'PC16', 'PC17', 'PC18', 'PC19', 'PC2', 'PC20', 'PC3', 'PC4', 'PC5', 'PC6', 'PC7', 'PC8', 'PC9'] have very low variance. This may harm convergence. 1) Are you using formula's? Did you mean to add '-1' to the end. 2) Try dropping this redundant column before fitting if convergence fails.\n",
      "\n",
      "  warnings.warn(dedent(warning_text), ConvergenceWarning)\n"
     ]
    },
    {
     "name": "stdout",
     "output_type": "stream",
     "text": [
      "f24\n"
     ]
    },
    {
     "name": "stderr",
     "output_type": "stream",
     "text": [
      "/home/unix/rwalters/py39haillibs/lib/python3.9/site-packages/lifelines/utils/__init__.py:1102: ConvergenceWarning: Column(s) ['PC10', 'PC11', 'PC12', 'PC13', 'PC14', 'PC15', 'PC16', 'PC17', 'PC18', 'PC19', 'PC2', 'PC20', 'PC3', 'PC4', 'PC5', 'PC6', 'PC7', 'PC8', 'PC9'] have very low variance. This may harm convergence. 1) Are you using formula's? Did you mean to add '-1' to the end. 2) Try dropping this redundant column before fitting if convergence fails.\n",
      "\n",
      "  warnings.warn(dedent(warning_text), ConvergenceWarning)\n"
     ]
    },
    {
     "name": "stdout",
     "output_type": "stream",
     "text": [
      "f25\n"
     ]
    },
    {
     "name": "stderr",
     "output_type": "stream",
     "text": [
      "/home/unix/rwalters/py39haillibs/lib/python3.9/site-packages/lifelines/utils/__init__.py:1102: ConvergenceWarning: Column(s) ['PC10', 'PC11', 'PC12', 'PC13', 'PC14', 'PC15', 'PC16', 'PC17', 'PC18', 'PC19', 'PC2', 'PC20', 'PC3', 'PC4', 'PC5', 'PC6', 'PC7', 'PC8', 'PC9'] have very low variance. This may harm convergence. 1) Are you using formula's? Did you mean to add '-1' to the end. 2) Try dropping this redundant column before fitting if convergence fails.\n",
      "\n",
      "  warnings.warn(dedent(warning_text), ConvergenceWarning)\n"
     ]
    },
    {
     "name": "stdout",
     "output_type": "stream",
     "text": [
      "f26\n"
     ]
    },
    {
     "name": "stderr",
     "output_type": "stream",
     "text": [
      "/home/unix/rwalters/py39haillibs/lib/python3.9/site-packages/lifelines/utils/__init__.py:1102: ConvergenceWarning: Column(s) ['PC10', 'PC11', 'PC12', 'PC13', 'PC14', 'PC15', 'PC16', 'PC17', 'PC18', 'PC19', 'PC2', 'PC20', 'PC3', 'PC4', 'PC5', 'PC6', 'PC7', 'PC8', 'PC9'] have very low variance. This may harm convergence. 1) Are you using formula's? Did you mean to add '-1' to the end. 2) Try dropping this redundant column before fitting if convergence fails.\n",
      "\n",
      "  warnings.warn(dedent(warning_text), ConvergenceWarning)\n"
     ]
    },
    {
     "name": "stdout",
     "output_type": "stream",
     "text": [
      "f27\n"
     ]
    },
    {
     "name": "stderr",
     "output_type": "stream",
     "text": [
      "/home/unix/rwalters/py39haillibs/lib/python3.9/site-packages/lifelines/utils/__init__.py:1102: ConvergenceWarning: Column(s) ['PC10', 'PC11', 'PC12', 'PC13', 'PC14', 'PC15', 'PC16', 'PC17', 'PC18', 'PC19', 'PC2', 'PC20', 'PC3', 'PC4', 'PC5', 'PC6', 'PC7', 'PC8', 'PC9'] have very low variance. This may harm convergence. 1) Are you using formula's? Did you mean to add '-1' to the end. 2) Try dropping this redundant column before fitting if convergence fails.\n",
      "\n",
      "  warnings.warn(dedent(warning_text), ConvergenceWarning)\n"
     ]
    },
    {
     "name": "stdout",
     "output_type": "stream",
     "text": [
      "f28\n"
     ]
    },
    {
     "name": "stderr",
     "output_type": "stream",
     "text": [
      "/home/unix/rwalters/py39haillibs/lib/python3.9/site-packages/lifelines/utils/__init__.py:1102: ConvergenceWarning: Column(s) ['PC10', 'PC11', 'PC12', 'PC13', 'PC14', 'PC15', 'PC16', 'PC17', 'PC18', 'PC19', 'PC2', 'PC20', 'PC3', 'PC4', 'PC5', 'PC6', 'PC7', 'PC8', 'PC9'] have very low variance. This may harm convergence. 1) Are you using formula's? Did you mean to add '-1' to the end. 2) Try dropping this redundant column before fitting if convergence fails.\n",
      "\n",
      "  warnings.warn(dedent(warning_text), ConvergenceWarning)\n"
     ]
    },
    {
     "name": "stdout",
     "output_type": "stream",
     "text": [
      "f29\n"
     ]
    },
    {
     "name": "stderr",
     "output_type": "stream",
     "text": [
      "/home/unix/rwalters/py39haillibs/lib/python3.9/site-packages/lifelines/utils/__init__.py:1102: ConvergenceWarning: Column(s) ['PC10', 'PC11', 'PC12', 'PC13', 'PC14', 'PC15', 'PC16', 'PC17', 'PC18', 'PC19', 'PC2', 'PC20', 'PC3', 'PC4', 'PC5', 'PC6', 'PC7', 'PC8', 'PC9'] have very low variance. This may harm convergence. 1) Are you using formula's? Did you mean to add '-1' to the end. 2) Try dropping this redundant column before fitting if convergence fails.\n",
      "\n",
      "  warnings.warn(dedent(warning_text), ConvergenceWarning)\n"
     ]
    },
    {
     "name": "stdout",
     "output_type": "stream",
     "text": [
      "f3\n"
     ]
    },
    {
     "name": "stderr",
     "output_type": "stream",
     "text": [
      "/home/unix/rwalters/py39haillibs/lib/python3.9/site-packages/lifelines/utils/__init__.py:1102: ConvergenceWarning: Column(s) ['PC10', 'PC11', 'PC12', 'PC13', 'PC14', 'PC15', 'PC16', 'PC17', 'PC18', 'PC19', 'PC2', 'PC20', 'PC3', 'PC4', 'PC5', 'PC6', 'PC7', 'PC8', 'PC9'] have very low variance. This may harm convergence. 1) Are you using formula's? Did you mean to add '-1' to the end. 2) Try dropping this redundant column before fitting if convergence fails.\n",
      "\n",
      "  warnings.warn(dedent(warning_text), ConvergenceWarning)\n"
     ]
    },
    {
     "name": "stdout",
     "output_type": "stream",
     "text": [
      "f30\n"
     ]
    },
    {
     "name": "stderr",
     "output_type": "stream",
     "text": [
      "/home/unix/rwalters/py39haillibs/lib/python3.9/site-packages/lifelines/utils/__init__.py:1102: ConvergenceWarning: Column(s) ['PC10', 'PC11', 'PC12', 'PC13', 'PC14', 'PC15', 'PC16', 'PC17', 'PC18', 'PC19', 'PC2', 'PC20', 'PC3', 'PC4', 'PC5', 'PC6', 'PC7', 'PC8', 'PC9'] have very low variance. This may harm convergence. 1) Are you using formula's? Did you mean to add '-1' to the end. 2) Try dropping this redundant column before fitting if convergence fails.\n",
      "\n",
      "  warnings.warn(dedent(warning_text), ConvergenceWarning)\n"
     ]
    },
    {
     "name": "stdout",
     "output_type": "stream",
     "text": [
      "f31\n"
     ]
    },
    {
     "name": "stderr",
     "output_type": "stream",
     "text": [
      "/home/unix/rwalters/py39haillibs/lib/python3.9/site-packages/lifelines/utils/__init__.py:1102: ConvergenceWarning: Column(s) ['PC10', 'PC11', 'PC12', 'PC13', 'PC14', 'PC15', 'PC16', 'PC17', 'PC18', 'PC19', 'PC2', 'PC20', 'PC3', 'PC4', 'PC5', 'PC6', 'PC7', 'PC8', 'PC9'] have very low variance. This may harm convergence. 1) Are you using formula's? Did you mean to add '-1' to the end. 2) Try dropping this redundant column before fitting if convergence fails.\n",
      "\n",
      "  warnings.warn(dedent(warning_text), ConvergenceWarning)\n"
     ]
    },
    {
     "name": "stdout",
     "output_type": "stream",
     "text": [
      "f32\n"
     ]
    },
    {
     "name": "stderr",
     "output_type": "stream",
     "text": [
      "/home/unix/rwalters/py39haillibs/lib/python3.9/site-packages/lifelines/utils/__init__.py:1102: ConvergenceWarning: Column(s) ['PC10', 'PC11', 'PC12', 'PC13', 'PC14', 'PC15', 'PC16', 'PC17', 'PC18', 'PC19', 'PC2', 'PC20', 'PC3', 'PC4', 'PC5', 'PC6', 'PC7', 'PC8', 'PC9'] have very low variance. This may harm convergence. 1) Are you using formula's? Did you mean to add '-1' to the end. 2) Try dropping this redundant column before fitting if convergence fails.\n",
      "\n",
      "  warnings.warn(dedent(warning_text), ConvergenceWarning)\n"
     ]
    },
    {
     "name": "stdout",
     "output_type": "stream",
     "text": [
      "f33\n"
     ]
    },
    {
     "name": "stderr",
     "output_type": "stream",
     "text": [
      "/home/unix/rwalters/py39haillibs/lib/python3.9/site-packages/lifelines/utils/__init__.py:1102: ConvergenceWarning: Column(s) ['PC10', 'PC11', 'PC12', 'PC13', 'PC14', 'PC15', 'PC16', 'PC17', 'PC18', 'PC19', 'PC2', 'PC20', 'PC3', 'PC4', 'PC5', 'PC6', 'PC7', 'PC8', 'PC9'] have very low variance. This may harm convergence. 1) Are you using formula's? Did you mean to add '-1' to the end. 2) Try dropping this redundant column before fitting if convergence fails.\n",
      "\n",
      "  warnings.warn(dedent(warning_text), ConvergenceWarning)\n"
     ]
    },
    {
     "name": "stdout",
     "output_type": "stream",
     "text": [
      "f34\n"
     ]
    },
    {
     "name": "stderr",
     "output_type": "stream",
     "text": [
      "/home/unix/rwalters/py39haillibs/lib/python3.9/site-packages/lifelines/utils/__init__.py:1102: ConvergenceWarning: Column(s) ['PC10', 'PC11', 'PC12', 'PC13', 'PC14', 'PC15', 'PC16', 'PC17', 'PC18', 'PC19', 'PC2', 'PC20', 'PC3', 'PC4', 'PC5', 'PC6', 'PC7', 'PC8', 'PC9'] have very low variance. This may harm convergence. 1) Are you using formula's? Did you mean to add '-1' to the end. 2) Try dropping this redundant column before fitting if convergence fails.\n",
      "\n",
      "  warnings.warn(dedent(warning_text), ConvergenceWarning)\n"
     ]
    },
    {
     "name": "stdout",
     "output_type": "stream",
     "text": [
      "f35\n"
     ]
    },
    {
     "name": "stderr",
     "output_type": "stream",
     "text": [
      "/home/unix/rwalters/py39haillibs/lib/python3.9/site-packages/lifelines/utils/__init__.py:1102: ConvergenceWarning: Column(s) ['PC10', 'PC11', 'PC12', 'PC13', 'PC14', 'PC15', 'PC16', 'PC17', 'PC18', 'PC19', 'PC2', 'PC20', 'PC3', 'PC4', 'PC5', 'PC6', 'PC7', 'PC8', 'PC9'] have very low variance. This may harm convergence. 1) Are you using formula's? Did you mean to add '-1' to the end. 2) Try dropping this redundant column before fitting if convergence fails.\n",
      "\n",
      "  warnings.warn(dedent(warning_text), ConvergenceWarning)\n"
     ]
    },
    {
     "name": "stdout",
     "output_type": "stream",
     "text": [
      "f36\n"
     ]
    },
    {
     "name": "stderr",
     "output_type": "stream",
     "text": [
      "/home/unix/rwalters/py39haillibs/lib/python3.9/site-packages/lifelines/utils/__init__.py:1102: ConvergenceWarning: Column(s) ['PC10', 'PC11', 'PC12', 'PC13', 'PC14', 'PC15', 'PC16', 'PC17', 'PC18', 'PC19', 'PC2', 'PC20', 'PC3', 'PC4', 'PC5', 'PC6', 'PC7', 'PC8', 'PC9'] have very low variance. This may harm convergence. 1) Are you using formula's? Did you mean to add '-1' to the end. 2) Try dropping this redundant column before fitting if convergence fails.\n",
      "\n",
      "  warnings.warn(dedent(warning_text), ConvergenceWarning)\n"
     ]
    },
    {
     "name": "stdout",
     "output_type": "stream",
     "text": [
      "f4\n"
     ]
    },
    {
     "name": "stderr",
     "output_type": "stream",
     "text": [
      "/home/unix/rwalters/py39haillibs/lib/python3.9/site-packages/lifelines/utils/__init__.py:1102: ConvergenceWarning: Column(s) ['PC10', 'PC11', 'PC12', 'PC13', 'PC14', 'PC15', 'PC16', 'PC17', 'PC18', 'PC19', 'PC2', 'PC20', 'PC3', 'PC4', 'PC5', 'PC6', 'PC7', 'PC8', 'PC9'] have very low variance. This may harm convergence. 1) Are you using formula's? Did you mean to add '-1' to the end. 2) Try dropping this redundant column before fitting if convergence fails.\n",
      "\n",
      "  warnings.warn(dedent(warning_text), ConvergenceWarning)\n"
     ]
    },
    {
     "name": "stdout",
     "output_type": "stream",
     "text": [
      "f5\n"
     ]
    },
    {
     "name": "stderr",
     "output_type": "stream",
     "text": [
      "/home/unix/rwalters/py39haillibs/lib/python3.9/site-packages/lifelines/utils/__init__.py:1102: ConvergenceWarning: Column(s) ['PC10', 'PC11', 'PC12', 'PC13', 'PC14', 'PC15', 'PC16', 'PC17', 'PC18', 'PC19', 'PC2', 'PC20', 'PC3', 'PC4', 'PC5', 'PC6', 'PC7', 'PC8', 'PC9'] have very low variance. This may harm convergence. 1) Are you using formula's? Did you mean to add '-1' to the end. 2) Try dropping this redundant column before fitting if convergence fails.\n",
      "\n",
      "  warnings.warn(dedent(warning_text), ConvergenceWarning)\n"
     ]
    },
    {
     "name": "stdout",
     "output_type": "stream",
     "text": [
      "f6\n"
     ]
    },
    {
     "name": "stderr",
     "output_type": "stream",
     "text": [
      "/home/unix/rwalters/py39haillibs/lib/python3.9/site-packages/lifelines/utils/__init__.py:1102: ConvergenceWarning: Column(s) ['PC10', 'PC11', 'PC12', 'PC13', 'PC14', 'PC15', 'PC16', 'PC17', 'PC18', 'PC19', 'PC2', 'PC20', 'PC3', 'PC4', 'PC5', 'PC6', 'PC7', 'PC8', 'PC9'] have very low variance. This may harm convergence. 1) Are you using formula's? Did you mean to add '-1' to the end. 2) Try dropping this redundant column before fitting if convergence fails.\n",
      "\n",
      "  warnings.warn(dedent(warning_text), ConvergenceWarning)\n"
     ]
    },
    {
     "name": "stdout",
     "output_type": "stream",
     "text": [
      "f7\n"
     ]
    },
    {
     "name": "stderr",
     "output_type": "stream",
     "text": [
      "/home/unix/rwalters/py39haillibs/lib/python3.9/site-packages/lifelines/utils/__init__.py:1102: ConvergenceWarning: Column(s) ['PC10', 'PC11', 'PC12', 'PC13', 'PC14', 'PC15', 'PC16', 'PC17', 'PC18', 'PC19', 'PC2', 'PC20', 'PC3', 'PC4', 'PC5', 'PC6', 'PC7', 'PC8', 'PC9'] have very low variance. This may harm convergence. 1) Are you using formula's? Did you mean to add '-1' to the end. 2) Try dropping this redundant column before fitting if convergence fails.\n",
      "\n",
      "  warnings.warn(dedent(warning_text), ConvergenceWarning)\n"
     ]
    },
    {
     "name": "stdout",
     "output_type": "stream",
     "text": [
      "f9\n"
     ]
    },
    {
     "name": "stderr",
     "output_type": "stream",
     "text": [
      "/home/unix/rwalters/py39haillibs/lib/python3.9/site-packages/lifelines/utils/__init__.py:1102: ConvergenceWarning: Column(s) ['PC10', 'PC11', 'PC12', 'PC13', 'PC14', 'PC15', 'PC16', 'PC17', 'PC18', 'PC19', 'PC2', 'PC20', 'PC3', 'PC4', 'PC5', 'PC6', 'PC7', 'PC8', 'PC9'] have very low variance. This may harm convergence. 1) Are you using formula's? Did you mean to add '-1' to the end. 2) Try dropping this redundant column before fitting if convergence fails.\n",
      "\n",
      "  warnings.warn(dedent(warning_text), ConvergenceWarning)\n"
     ]
    }
   ],
   "source": [
    "for factor in fs_rescored.columns:\n",
    "    print(factor)\n",
    "    to_analyze_htn = pd.DataFrame(fs_rescored.dropna(subset=[factor])[factor]).join(covs,how=\"left\").join(birth,how=\"left\").join(death,how=\"left\").join(raw_baseline,how=\"left\").join(t0array[\"t0\"],how=\"left\")\n",
    "    to_analyze_htn[\"start\"] = pd.to_datetime(to_analyze_htn[\"t0\"])\n",
    "    to_analyze_htn[\"end\"] = pd.to_datetime(to_analyze_htn[\"date_of_death\"],format='%d/%m/%Y')\n",
    "    to_analyze_htn = to_analyze_htn[~((to_analyze_htn.end - to_analyze_htn.start).dt.days<0)]\n",
    "    T, E = datetimes_to_durations(to_analyze_htn.start, to_analyze_htn.end,fill_date=datetime.datetime(2021, 9, 30))\n",
    "    to_analyze_htn[\"T\"] = T\n",
    "    to_analyze_htn[\"E\"] = E\n",
    "    to_analyze_htn[\"date_baseline\"] = pd.to_datetime(to_analyze_htn[\"53-0.0\"])\n",
    "    to_analyze_htn[\"days_from_baseline\"] = (to_analyze_htn.start - to_analyze_htn.date_baseline).dt.days\n",
    "    formodel = to_analyze_htn[[factor,'54_10003','54_11001', '54_11002', '54_11003', '54_11004', '54_11005', '54_11006', '54_11007', '54_11008', '54_11009', '54_11010','54_11011', '54_11012', '54_11013', '54_11016', '54_11017', '54_11018','54_11020', '54_11021', '54_11022', '54_11023','PC1', 'PC10', 'PC11', 'PC12', 'PC13', 'PC14', 'PC15','PC16', 'PC17', 'PC18', 'PC19', 'PC2', 'PC20', 'PC3', 'PC4', 'PC5','PC6', 'PC7', 'PC8', 'PC9', 'age', 'age_isFemale', 'age_squared','age_squared_isFemale', 'isFemale',\"days_from_baseline\",\"T\",\"E\"]]\n",
    "    formodel = formodel[formodel.columns[formodel.var()!=0]]\n",
    "    cph = CoxPHFitter()\n",
    "    temp = cph.fit(formodel, 'T', event_col='E')\n",
    "    toplot.loc[factor,\"hr\"] = temp.hazard_ratios_[0]\n",
    "    toplot.loc[factor,[\"hr_lower\",\"hr_upper\"]] = np.exp(temp.confidence_intervals_).loc[factor].values\n",
    "    toplot.loc[factor,\"p\"] = temp.summary.p[0]\n",
    "    toplot.loc[factor,\"n\"] = temp._n_examples\n",
    "    #cph.print_summary()\n",
    "    #break"
   ]
  },
  {
   "cell_type": "code",
   "execution_count": 25,
   "metadata": {},
   "outputs": [],
   "source": [
    "bonf = 0.05/35"
   ]
  },
  {
   "cell_type": "code",
   "execution_count": 26,
   "metadata": {},
   "outputs": [],
   "source": [
    "toplot.loc[toplot.p<bonf,\"alpha\"] = 1"
   ]
  },
  {
   "cell_type": "code",
   "execution_count": 27,
   "metadata": {},
   "outputs": [],
   "source": [
    "toplot.loc[toplot.p>bonf,\"alpha\"] = 0.25"
   ]
  },
  {
   "cell_type": "code",
   "execution_count": 28,
   "metadata": {},
   "outputs": [],
   "source": [
    "all_h2_rg = pd.read_table(\"/stanley/robinson/ccarey/UKBB/factor_gwas/factor_analysis/cfa/FINAL_CFA/FACTOR_SCORES/core/wls_gwas/FINAL/all_h2_rg.tsv\",index_col=\"factor\")\n",
    "all_h2_rg[\"h2_lower\"] = all_h2_rg[\"h2_full\"]-all_h2_rg[\"h2_se_full\"]\n",
    "all_h2_rg[\"h2_upper\"] = all_h2_rg[\"h2_full\"]+all_h2_rg[\"h2_se_full\"]\n",
    "all_h2_rg[\"h2\"] = all_h2_rg[\"h2_full\"]"
   ]
  },
  {
   "cell_type": "code",
   "execution_count": 29,
   "metadata": {},
   "outputs": [
    {
     "data": {
      "image/png": "[encoded data removed]",
      "text/plain": [
       "<Figure size 708.6x300 with 2 Axes>"
      ]
     },
     "metadata": {},
     "output_type": "display_data"
    }
   ],
   "source": [
    "fig = plt.figure(figsize=(7.086, 3))\n",
    "# fig = plt.figure(figsize=(3.464, 7.086))\n",
    "\n",
    "fig.add_subplot(1,2,1)\n",
    "toplot = toplot.sort_values(\"hr\")\n",
    "toplot[\"y\"] = list(range(1,toplot.shape[0]+1))[::-1]\n",
    "toplot.loc[toplot.p<bonf,\"color\"] = \"blue\"\n",
    "toplot.loc[toplot.p>bonf,\"color\"] = \"#9898FF\"\n",
    "\n",
    "#plt.scatter(x=toplot.hr,y=toplot.y,facecolor=\"white\",marker=\"s\",s=200,edgecolor=\"blue\",zorder=2)\n",
    "plt.scatter(x=toplot.hr,y=toplot.y,color=toplot['color'],marker=\"o\",s=4,zorder=2,linewidth=0.5)\n",
    "ax=plt.gca()\n",
    "#for i, txt in enumerate(toplot.index):\n",
    "#    ax.annotate(txt[1:], (toplot.hr.tolist()[i], toplot.y.tolist()[i]),ha=\"center\",va=\"center\",zorder=3,fontsize=5,fontweight=\"bold\")\n",
    "plt.yticks(range(1,len(toplot.hr)+1), toplot.index[::-1])\n",
    "plt.xlabel(\"Mortality Hazard Ratio\",fontsize=7)\n",
    "for item in toplot.index:\n",
    "    lower = toplot.loc[item,\"hr_lower\"]\n",
    "    upper = toplot.loc[item,\"hr_upper\"]\n",
    "    yval = toplot.loc[item,\"y\"]\n",
    "    plt.plot([lower,upper],[yval,yval],color=toplot.loc[item,\"color\"],zorder=1,linewidth=0.75)\n",
    "plt.axvline(x=1,color=\"gray\",linestyle=\"--\",zorder=0)\n",
    "ax.axes.yaxis.set_visible(True)\n",
    "ax.tick_params(axis='both', which='major', labelsize=5)\n",
    "ax.set_yticklabels([str(x).upper() for x in toplot.index.tolist()[::-1]], fontsize=5)\n",
    "\n",
    "handlelist = [plt.plot([], marker=\"o\", ls=\"\", color=color, markersize=5)[0] for color in toplot[\"color\"].unique()]\n",
    "plt.legend(handlelist,['significant (p < .05/35)','not significant'],loc='upper right', fontsize=6)\n",
    "\n",
    "\n",
    "fig.add_subplot(1,2,2)\n",
    "toplot2 = all_h2_rg.sort_values(\"h2\")\n",
    "toplot2[\"y\"] = list(range(1,toplot2.shape[0]+1))[::-1]\n",
    "toplot2[\"color\"] = \"blue\"\n",
    "toplot2.loc[\"f17\",\"color\"] = \"#9898FF\"\n",
    "#plt.scatter(x=toplot.hr,y=toplot.y,facecolor=\"white\",marker=\"s\",s=200,edgecolor=\"blue\",zorder=2)\n",
    "scatter = plt.scatter(x=toplot2.h2,y=toplot2.y,color=toplot2[\"color\"],marker=\"o\",s=4,zorder=2,linewidth=0.5)\n",
    "ax=plt.gca()\n",
    "#for i, txt in enumerate(toplot2.index):\n",
    "#    ax.annotate(txt[1:], (toplot2.h2.tolist()[i], toplot2.y.tolist()[i]),ha=\"center\",va=\"center\",zorder=3,fontsize=5,fontweight=\"bold\")\n",
    "plt.yticks(range(1,len(toplot2.h2)+1), toplot2.index[::-1])\n",
    "plt.xlabel(\"SNP-based heritability\",fontsize=7)\n",
    "for item in toplot2.index:\n",
    "    lower = toplot2.loc[item,\"h2_lower\"]\n",
    "    upper = toplot2.loc[item,\"h2_upper\"]\n",
    "    yval = toplot2.loc[item,\"y\"]\n",
    "    plt.plot([lower,upper],[yval,yval],color=toplot2.loc[item,\"color\"],zorder=1,linewidth=0.75)\n",
    "plt.axvline(x=0,color=\"gray\",linestyle=\"--\",zorder=0)\n",
    "ax.axes.yaxis.set_visible(True)\n",
    "ax.tick_params(axis='both', which='major', labelsize=5)\n",
    "ax.set_yticklabels([str(x).upper() for x in toplot2.index.tolist()[::-1]], fontsize=5)\n",
    "\n",
    "handlelist = [plt.plot([], marker=\"o\", ls=\"\", color=color, markersize=5)[0] for color in toplot2[\"color\"].unique()]\n",
    "plt.legend(handlelist,['significant (p < .05/35)','not significant'],loc='upper right', fontsize=6)\n",
    "\n",
    "fig.text(0.03, 0.95, 'a', ha='center', fontsize=7,fontweight='bold')\n",
    "fig.text(0.53, 0.95, 'b', ha='center', fontsize=7,fontweight='bold')\n",
    "\n",
    "fig.tight_layout()\n",
    "\n",
    "plt.savefig(\"/stanley/robinson/ccarey/factor_paper_revision/figures_RKWchecklist/Figure2_journal_RKW.pdf\",format=\"pdf\") #,bbox_inches=\"tight\"\n",
    "# plt.show()"
   ]
  },
  {
   "cell_type": "code",
   "execution_count": null,
   "metadata": {},
   "outputs": [],
   "source": []
  }
 ],
 "metadata": {
  "kernelspec": {
   "display_name": "Python 3 (ipykernel)",
   "language": "python",
   "name": "python3"
  },
  "language_info": {
   "codemirror_mode": {
    "name": "ipython",
    "version": 3
   },
   "file_extension": ".py",
   "mimetype": "text/x-python",
   "name": "python",
   "nbconvert_exporter": "python",
   "pygments_lexer": "ipython3",
   "version": "3.9.13"
  }
 },
 "nbformat": 4,
 "nbformat_minor": 2
}
