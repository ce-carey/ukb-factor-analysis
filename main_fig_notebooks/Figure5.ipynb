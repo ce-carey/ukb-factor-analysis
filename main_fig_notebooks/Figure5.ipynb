{
 "cells": [
  {
   "cell_type": "code",
   "execution_count": 1,
   "metadata": {
    "scrolled": true
   },
   "outputs": [],
   "source": [
    "import pandas as pd\n",
    "import numpy as np\n",
    "import statsmodels\n",
    "import statsmodels.api as sm\n",
    "import statsmodels.formula.api as smf\n",
    "from itertools import chain\n",
    "import patsy\n",
    "import plotly.express as px\n",
    "import matplotlib.pyplot as plt\n",
    "import seaborn as sns\n",
    "import glob \n",
    "%matplotlib inline"
   ]
  },
  {
   "cell_type": "code",
   "execution_count": 2,
   "metadata": {
    "scrolled": true
   },
   "outputs": [],
   "source": [
    "infiles = glob.glob(\"/stanley/robinson/ccarey/UKBB/factor_gwas/factor_analysis/cfa/FINAL_CFA/FACTOR_SCORES/PHEWAS/phecodes_gwassamp/f*.csv\")"
   ]
  },
  {
   "cell_type": "code",
   "execution_count": 3,
   "metadata": {},
   "outputs": [],
   "source": [
    "infiles = sorted(infiles,key=(lambda e: int(e.split(\"/\")[-1].split(\"_\")[0][1:])))"
   ]
  },
  {
   "cell_type": "code",
   "execution_count": 4,
   "metadata": {},
   "outputs": [],
   "source": [
    "phecodeinfo = pd.read_table('/stanley/robinson/ccarey/UKBB/factor_gwas/factor_analysis/cfa/FINAL_CFA/FACTOR_SCORES/PHEWAS/UKB_Phecode_v1.2b1_ICD_Mapping.txt').set_index(\"phecode\")"
   ]
  },
  {
   "cell_type": "code",
   "execution_count": 5,
   "metadata": {},
   "outputs": [],
   "source": [
    "import scipy.stats as st"
   ]
  },
  {
   "cell_type": "code",
   "execution_count": 6,
   "metadata": {},
   "outputs": [],
   "source": [
    "bonf = 0.05/(403*35)"
   ]
  },
  {
   "cell_type": "code",
   "execution_count": 7,
   "metadata": {},
   "outputs": [],
   "source": [
    "crit_z = st.norm.ppf(1-(bonf/2))"
   ]
  },
  {
   "cell_type": "code",
   "execution_count": 8,
   "metadata": {},
   "outputs": [],
   "source": [
    "outcols = [\"phecode\",\"name\",\"group\",\"n\",\"n_case\",\"or\",\"coef\",\"se\",\"z\",\"p\"]"
   ]
  },
  {
   "cell_type": "code",
   "execution_count": 9,
   "metadata": {},
   "outputs": [],
   "source": [
    "for file in infiles:\n",
    "    factor = file.split(\"/\")[-1].split(\".\")[0]\n",
    "    temp = pd.read_csv(file)\n",
    "    temp[\"abs_teststat\"] = abs(temp.teststat)\n",
    "    temp[\"group\"] = temp.apply(lambda x: phecodeinfo.loc[x[\"Unnamed: 0\"]].group,axis=1)\n",
    "    temp[\"or\"] = temp.apply(lambda x: np.exp(x.coef),axis=1)\n",
    "    temp = temp[temp.p<bonf].sort_values(\"p\")\n",
    "    temp.rename(columns={'Unnamed: 0':'phecode','teststat':'z'}, inplace=True)\n",
    "    break"
   ]
  },
  {
   "cell_type": "code",
   "execution_count": 10,
   "metadata": {},
   "outputs": [
    {
     "data": {
      "text/plain": [
       "'/stanley/robinson/ccarey/UKBB/factor_gwas/factor_analysis/cfa/FINAL_CFA/FACTOR_SCORES/PHEWAS/phecodes_gwassamp/f9_phecodes_phewas.csv'"
      ]
     },
     "execution_count": 10,
     "metadata": {},
     "output_type": "execute_result"
    }
   ],
   "source": [
    "infiles[7]"
   ]
  },
  {
   "cell_type": "code",
   "execution_count": 11,
   "metadata": {},
   "outputs": [],
   "source": [
    "infiles = infiles[7]"
   ]
  },
  {
   "cell_type": "code",
   "execution_count": 12,
   "metadata": {},
   "outputs": [],
   "source": [
    "from plotly.subplots import make_subplots\n",
    "import plotly.graph_objects as go"
   ]
  },
  {
   "cell_type": "code",
   "execution_count": 13,
   "metadata": {},
   "outputs": [
    {
     "data": {
      "text/plain": [
       "'/stanley/robinson/ccarey/UKBB/factor_gwas/factor_analysis/cfa/FINAL_CFA/FACTOR_SCORES/PHEWAS/phecodes_gwassamp/f9_phecodes_phewas.csv'"
      ]
     },
     "execution_count": 13,
     "metadata": {},
     "output_type": "execute_result"
    }
   ],
   "source": [
    "infiles"
   ]
  },
  {
   "cell_type": "code",
   "execution_count": 14,
   "metadata": {},
   "outputs": [],
   "source": [
    "for i,file in enumerate([infiles]):\n",
    "    factor = file.split(\"/\")[-1].split(\".\")[0]\n",
    "    temp = pd.read_csv(file)\n",
    "    temp[\"abs_teststat\"] = abs(temp.teststat)\n",
    "    temp[\"group\"] = temp.apply(lambda x: phecodeinfo.loc[x[\"Unnamed: 0\"]].group,axis=1)\n",
    "    temp[\"toplevel\"]=temp.apply(lambda x: str(x[\"Unnamed: 0\"]).split(\".\")[1]==\"0\",axis=1)\n",
    "    temp = temp[temp.toplevel]\n",
    "    temp = temp.sort_values([\"group\",\"Unnamed: 0\"])\n",
    "    temp_trimmed = temp[temp[\"abs_teststat\"]<1000].reset_index()\n",
    "    break"
   ]
  },
  {
   "cell_type": "code",
   "execution_count": 15,
   "metadata": {},
   "outputs": [],
   "source": [
    "colordict = dict(zip(temp_trimmed.group.unique(),px.colors.qualitative.Light24[0:16]))"
   ]
  },
  {
   "cell_type": "code",
   "execution_count": 16,
   "metadata": {},
   "outputs": [
    {
     "data": {
      "text/plain": [
       "(403, 15)"
      ]
     },
     "execution_count": 16,
     "metadata": {},
     "output_type": "execute_result"
    }
   ],
   "source": [
    "temp.shape"
   ]
  },
  {
   "cell_type": "code",
   "execution_count": 17,
   "metadata": {},
   "outputs": [],
   "source": [
    "colors_dark = px.colors.qualitative.Dark24[0:16]"
   ]
  },
  {
   "cell_type": "code",
   "execution_count": 18,
   "metadata": {},
   "outputs": [],
   "source": [
    "from matplotlib.colors import hsv_to_rgb, to_hex"
   ]
  },
  {
   "cell_type": "code",
   "execution_count": 19,
   "metadata": {},
   "outputs": [],
   "source": [
    "from colormap import rgb2hex, rgb2hls, hls2rgb"
   ]
  },
  {
   "cell_type": "code",
   "execution_count": 20,
   "metadata": {},
   "outputs": [],
   "source": [
    "def hex_to_rgb(hex):\n",
    "     hex = hex.lstrip('#')\n",
    "     hlen = len(hex)\n",
    "     return tuple(int(hex[i:i+hlen//3], 16) for i in range(0, hlen, hlen//3))\n",
    "\n",
    "def adjust_color_lightness(r, g, b, factor):\n",
    "    h, l, s = rgb2hls(r / 255.0, g / 255.0, b / 255.0)\n",
    "    l = max(min(l * factor, 1.0), 0.0)\n",
    "    r, g, b = hls2rgb(h, l, s)\n",
    "    return rgb2hex(int(r * 255), int(g * 255), int(b * 255))\n",
    "\n",
    "def darken_color(rgb, factor=0.5):\n",
    "    r, g, b = rgb\n",
    "    return adjust_color_lightness(r, g, b, 1 - factor)"
   ]
  },
  {
   "cell_type": "code",
   "execution_count": 21,
   "metadata": {},
   "outputs": [],
   "source": [
    "from matplotlib.lines import Line2D\n",
    "import scipy"
   ]
  },
  {
   "cell_type": "code",
   "execution_count": 26,
   "metadata": {},
   "outputs": [
    {
     "data": {
      "image/png": "[encoded data removed]",
      "text/plain": [
       "<Figure size 346.4x300 with 1 Axes>"
      ]
     },
     "metadata": {},
     "output_type": "display_data"
    }
   ],
   "source": [
    "fig = plt.figure(figsize=(3.464,3))\n",
    "ax = plt.gca()\n",
    "\n",
    "for i,file in enumerate([infiles]):\n",
    "    factor = file.split(\"/\")[-1].split(\".\")[0]\n",
    "    temp = pd.read_csv(file)\n",
    "    temp[\"abs_teststat\"] = abs(temp.teststat)\n",
    "    temp[\"group\"] = temp.apply(lambda x: phecodeinfo.loc[x[\"Unnamed: 0\"]].group,axis=1)\n",
    "    temp[\"toplevel\"]=temp.apply(lambda x: str(x[\"Unnamed: 0\"]).split(\".\")[1]==\"0\",axis=1)\n",
    "    temp = temp[temp.toplevel]\n",
    "    temp = temp.sort_values([\"group\",\"Unnamed: 0\"])\n",
    "    temp_trimmed = temp[temp[\"abs_teststat\"]<1000].reset_index()\n",
    "    temp_trimmed[\"log10p\"] = -np.log10(scipy.stats.norm.sf(temp[\"teststat\"]))\n",
    "    bp_dict = temp_trimmed.boxplot(column=[\"teststat\"],by=\"group\",patch_artist=True,grid=False,return_type='both',vert=False,ax=ax)\n",
    "    colors = px.colors.qualitative.Light24[0:16]\n",
    "    colors_dark = [darken_color(hex_to_rgb(hex_number)) for hex_number in colors]\n",
    "    colors_dark2 = np.repeat([darken_color(hex_to_rgb(hex_number)) for hex_number in colors],2)\n",
    "    for row_key, (ax,row) in bp_dict.iteritems():\n",
    "        for i,box in enumerate(row['boxes']):\n",
    "            box.set_color(colors_dark[i])\n",
    "            box.set_facecolor(colors[i])\n",
    "        for i,whisker in enumerate(row['whiskers']):\n",
    "            whisker.set_color(colors_dark2[i])\n",
    "        for i,cap in enumerate(row['caps']):\n",
    "            cap.set_color(colors_dark2[i])\n",
    "        for i,flier in enumerate(row['fliers']):\n",
    "            flier.set_markerfacecolor(\"none\")\n",
    "            flier.set_marker(\".\")\n",
    "            flier.set_markeredgecolor(colors_dark[i])\n",
    "        for i,median in enumerate(row['medians']):\n",
    "            median.set_color(\"k\")\n",
    "    #lines = [Line2D([0], [0], color=c, linewidth=3, linestyle='-') for c in colors]\n",
    "    #labels = colordict.keys()\n",
    "    plt.title(\"\")\n",
    "    plt.suptitle(\"\")\n",
    "    plt.axvline(x=crit_z, linestyle=\"--\", color=\"black\",alpha=0.25,zorder=0)\n",
    "    plt.axvline(x=-1*crit_z, linestyle=\"--\", color=\"black\",alpha=0.25,zorder=0)\n",
    "    plt.axvline(x=0, linestyle=\"-\", color=\"black\",alpha=0.25,zorder=0)\n",
    "    #plt.legend(lines,labels,loc='center left', bbox_to_anchor=(1, 0.63))\n",
    "\n",
    "    #hide x-axis\n",
    "    #ax.get_xaxis().set_visible(False)\n",
    "    ax.set_xlabel(\"Logistic regression z score for Factor 9\",fontsize=7)\n",
    "    ax.set_ylabel(\"Phecode category\",fontsize=7)\n",
    "    ax.tick_params(axis='both', which='major', labelsize=6)\n",
    "    ax.invert_yaxis()\n",
    "    \n",
    "fig.tight_layout()\n",
    "plt.savefig(\"/stanley/robinson/ccarey/factor_paper_revision/figures_RKWchecklist/Figure5_journal_RKW.pdf\",format=\"pdf\") #,bbox_inches=\"tight\"\n",
    "#fig.update_layout(yaxis_range=[0,60])\n",
    "    #display(temp_trimmed.sort_values(\"abs_teststat\",ascending=False)[0:10][[\"name\",\"teststat\"]])\n",
    "    \n",
    "#plt.savefig(\"test.png\",dpi=300,bbox_inches='tight')"
   ]
  },
  {
   "cell_type": "code",
   "execution_count": null,
   "metadata": {},
   "outputs": [],
   "source": []
  }
 ],
 "metadata": {
  "kernelspec": {
   "display_name": "Python 3 (ipykernel)",
   "language": "python",
   "name": "python3"
  },
  "language_info": {
   "codemirror_mode": {
    "name": "ipython",
    "version": 3
   },
   "file_extension": ".py",
   "mimetype": "text/x-python",
   "name": "python",
   "nbconvert_exporter": "python",
   "pygments_lexer": "ipython3",
   "version": "3.9.13"
  }
 },
 "nbformat": 4,
 "nbformat_minor": 2
}
