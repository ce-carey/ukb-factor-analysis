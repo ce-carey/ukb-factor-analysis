{
 "cells": [
  {
   "cell_type": "code",
   "execution_count": 1,
   "metadata": {},
   "outputs": [],
   "source": [
    "import pandas as pd\n",
    "import numpy as np\n",
    "from itertools import chain\n",
    "import patsy\n",
    "import plotly.express as px\n",
    "import matplotlib.pyplot as plt\n",
    "import seaborn as sns\n",
    "import datetime\n",
    "from lifelines.utils import datetimes_to_durations\n",
    "from lifelines import CoxPHFitter\n",
    "%matplotlib inline"
   ]
  },
  {
   "cell_type": "code",
   "execution_count": 2,
   "metadata": {},
   "outputs": [],
   "source": [
    "sample = pd.read_table('/psych/genetics_data/ccarey/UKBB/ukb_files/ukb_whitebritish.txt',sep=\" \",index_col=\"IID\")\n",
    "with open(\"/stanley/genetics/datasets/ukb31063/ukb31063.withdrawn_participants.20210809.csv\",\"r\") as f:\n",
    "        withdraw = f.read().split()\n",
    "final_sample = np.setdiff1d(sample.index,withdraw)"
   ]
  },
  {
   "cell_type": "code",
   "execution_count": 3,
   "metadata": {},
   "outputs": [],
   "source": [
    "rawcols_baseline = pd.read_table('/stanley/robinson/ccarey/UKBB/ukb_files/ukb31063.raw_phenotypes.tsv',nrows=0)"
   ]
  },
  {
   "cell_type": "code",
   "execution_count": 4,
   "metadata": {},
   "outputs": [],
   "source": [
    "mycols_baseline = [\"eid\",\"53-0.0\",'21003-0.0','105010-0.0', '105010-1.0', '105010-2.0', '105010-3.0', '105010-4.0','20400-0.0','22500-0.0','3894-0.0',\"3992-0.0\",\"3627-0.0\",\"2966-0.0\",\"3786-0.0\",\"3761-0.0\",\"2976-0.0\",\"4689-0.0\",\"4700-0.0\",\"5945-0.0\",\"20433-0.0\"]"
   ]
  },
  {
   "cell_type": "code",
   "execution_count": 5,
   "metadata": {},
   "outputs": [],
   "source": [
    "mycol_labels_baseline = [\"sample\", \"age_at_baseline\",\"date_baseline\",\"date_diet1\",\"date_diet2\",\"date_diet3\",\"date_diet4\",\"date_mhq\",\"date_work\",\"age_heartattack\",\"age_emphysema\",\"age_angina\",\"age_hypertension\",\"age_asthma\",\"age_hayfever\",\"age_diabetes\",\"age_glaucoma\",\"age_cataract\",\"age_eyeother\",\"age_depression_mhq\"]"
   ]
  },
  {
   "cell_type": "code",
   "execution_count": 6,
   "metadata": {},
   "outputs": [],
   "source": [
    "coldict_baseline = dict(zip(mycols_baseline,mycol_labels_baseline))"
   ]
  },
  {
   "cell_type": "code",
   "execution_count": 7,
   "metadata": {},
   "outputs": [],
   "source": [
    "raw_baseline = pd.read_table('/stanley/robinson/ccarey/UKBB/ukb_files/ukb31063.raw_phenotypes.tsv',usecols=mycols_baseline,index_col=\"eid\",dtype=object)"
   ]
  },
  {
   "cell_type": "code",
   "execution_count": 8,
   "metadata": {},
   "outputs": [],
   "source": [
    "mycols_birth = [\"eid\",\"34-0.0\",\"52-0.0\"]"
   ]
  },
  {
   "cell_type": "code",
   "execution_count": 9,
   "metadata": {},
   "outputs": [],
   "source": [
    "mycol_labels_birth = [\"sample\", \"birth_year\", \"birth_month\"]"
   ]
  },
  {
   "cell_type": "code",
   "execution_count": 10,
   "metadata": {},
   "outputs": [],
   "source": [
    "coldict_birth = dict(zip(mycols_birth,mycol_labels_birth))"
   ]
  },
  {
   "cell_type": "code",
   "execution_count": 11,
   "metadata": {},
   "outputs": [],
   "source": [
    "birth = pd.read_csv('/stanley/robinson/ccarey/UKBB/factor_gwas/factor_analysis/cfa/FINAL_CFA/FACTOR_SCORES/PHEWAS/mortality/ukb41114.csv',usecols=mycols_birth,index_col=\"eid\")"
   ]
  },
  {
   "cell_type": "code",
   "execution_count": 12,
   "metadata": {},
   "outputs": [],
   "source": [
    "death = pd.read_table('/stanley/robinson/ccarey/UKBB/factor_gwas/factor_analysis/cfa/FINAL_CFA/FACTOR_SCORES/PHEWAS/mortality/ukb31063.death.20211215.txt',usecols=[\"eid\",\"dsource\",\"date_of_death\"],index_col=\"eid\")"
   ]
  },
  {
   "cell_type": "code",
   "execution_count": 13,
   "metadata": {},
   "outputs": [],
   "source": [
    "dates_raw=raw_baseline[[\"53-0.0\",\"105010-0.0\",\"105010-1.0\",\"105010-2.0\",\"105010-3.0\",\"105010-4.0\",\"20400-0.0\",\"22500-0.0\"]]"
   ]
  },
  {
   "cell_type": "code",
   "execution_count": 14,
   "metadata": {},
   "outputs": [],
   "source": [
    "dates = dates_raw.apply(lambda x: pd.to_datetime(x).dt.date,axis=1)"
   ]
  },
  {
   "cell_type": "code",
   "execution_count": 15,
   "metadata": {},
   "outputs": [],
   "source": [
    "t0array = pd.DataFrame(dates.apply(lambda x: [y for y in list(x[:]) if not pd.isna(y)],axis=1))"
   ]
  },
  {
   "cell_type": "code",
   "execution_count": 16,
   "metadata": {},
   "outputs": [],
   "source": [
    "t0array[\"t0\"] = t0array[0].apply(lambda x: max(x))"
   ]
  },
  {
   "cell_type": "code",
   "execution_count": 17,
   "metadata": {},
   "outputs": [],
   "source": [
    "covs = pd.read_table(\"/stanley/robinson/ccarey/UKBB/factor_gwas/factor_analysis/cfa/FINAL_CFA/FACTOR_SCORES/core/wls_gwas/to_gwas/full_covs.csv\",sep=\",\",index_col=\"userId\")\n",
    "covs.isFemale = covs.isFemale.astype(int)"
   ]
  },
  {
   "cell_type": "code",
   "execution_count": 18,
   "metadata": {},
   "outputs": [],
   "source": [
    "fs_rescored = pd.read_csv('/stanley/robinson/ccarey/UKBB/factor_gwas/factor_analysis/cfa/FINAL_CFA/FACTOR_SCORES/PHEWAS/mortality/FS_newcode_full_semifinal_ind_rescored.csv').set_index(\"s\")"
   ]
  },
  {
   "cell_type": "code",
   "execution_count": 19,
   "metadata": {},
   "outputs": [],
   "source": [
    "fs_ind = pd.read_csv('/stanley/robinson/ccarey/UKBB/factor_gwas/factor_analysis/cfa/FINAL_CFA/FACTOR_SCORES/core/newcode/semifinalfullind/FS_newcode_full_semifinal_ind.csv').set_index(\"s\")\n",
    "#wt_ind = pd.read_csv('/stanley/robinson/ccarey/UKBB/factor_gwas/factor_analysis/cfa/FINAL_CFA/FACTOR_SCORES/core/newcode/semifinalfullind/WLSweight_newcode_full_semifinal_ind.csv').set_index(\"s\")\n",
    "misscor_ind = pd.read_csv('/stanley/robinson/ccarey/UKBB/factor_gwas/factor_analysis/cfa/FINAL_CFA/FACTOR_SCORES/core/newcode/semifinalfullind/MissCor_newcode_full_semifinal_ind.csv').set_index(\"s\")"
   ]
  },
  {
   "cell_type": "code",
   "execution_count": 20,
   "metadata": {},
   "outputs": [],
   "source": [
    "fs_dep = pd.read_csv('/stanley/robinson/ccarey/UKBB/factor_gwas/factor_analysis/cfa/FINAL_CFA/FACTOR_SCORES/core/wls_gwas/FINAL/FS_newcode_full_semifinal.csv').set_index(\"s\")\n",
    "wt_dep = pd.read_csv('/stanley/robinson/ccarey/UKBB/factor_gwas/factor_analysis/cfa/FINAL_CFA/FACTOR_SCORES/core/wls_gwas/FINAL/WLSweight_newcode_full_semifinal.csv').set_index(\"s\")\n",
    "misscor_dep = pd.read_csv('/stanley/robinson/ccarey/UKBB/factor_gwas/factor_analysis/cfa/FINAL_CFA/FACTOR_SCORES/core/wls_gwas/FINAL/MissCor_newcode_full_semifinal.csv').set_index(\"s\")"
   ]
  },
  {
   "cell_type": "code",
   "execution_count": 21,
   "metadata": {},
   "outputs": [],
   "source": [
    "fs_rescored[misscor_ind<np.sqrt(0.8)] = np.nan\n",
    "fs_rescored[misscor_dep<np.sqrt(0.8)] = np.nan\n",
    "fs_rescored.f27[misscor_dep.f27<np.sqrt(0.9)] = np.nan\n",
    "fs_rescored[fs_dep.isna()] = np.nan"
   ]
  },
  {
   "cell_type": "code",
   "execution_count": 22,
   "metadata": {},
   "outputs": [],
   "source": [
    "fulldata = pd.read_csv(\"/stanley/robinson/ccarey/UKBB/factor_gwas/factor_analysis/cfa/FINAL_CFA/FACTOR_SCORES/core/newcode/full_data_rescoredt0.csv\").set_index(\"userId\")"
   ]
  },
  {
   "cell_type": "code",
   "execution_count": 23,
   "metadata": {},
   "outputs": [],
   "source": [
    "zscore = pd.read_csv(\"/stanley/robinson/ccarey/UKBB/factor_gwas/factor_analysis/cfa/FINAL_CFA/FACTOR_SCORES/core/wls_gwas/compare_zscore/f23_z.csv\").set_index(\"userId\")"
   ]
  },
  {
   "cell_type": "code",
   "execution_count": 24,
   "metadata": {},
   "outputs": [],
   "source": [
    "htn_compare = pd.DataFrame(fs_rescored[\"f23\"]).join(zscore,how=\"inner\").join(fulldata[[\"904\",\"884\",\"864\",\"6164_3\",\"6164_2\",\"6160_1\",\"1060\",\"6162_4\",\"894\",\"1050\"]],how=\"inner\").dropna()"
   ]
  },
  {
   "cell_type": "code",
   "execution_count": 25,
   "metadata": {},
   "outputs": [],
   "source": [
    "to_analyze_htn = htn_compare.join(covs,how=\"left\").join(birth,how=\"left\").join(death,how=\"left\").join(raw_baseline,how=\"left\").join(t0array[\"t0\"],how=\"left\")"
   ]
  },
  {
   "cell_type": "code",
   "execution_count": 26,
   "metadata": {},
   "outputs": [],
   "source": [
    "mycovs = covs.columns[:21].tolist() + covs.columns[27:].tolist()"
   ]
  },
  {
   "cell_type": "code",
   "execution_count": 27,
   "metadata": {},
   "outputs": [
    {
     "name": "stderr",
     "output_type": "stream",
     "text": [
      "/home/unix/rwalters/py39haillibs/lib/python3.9/site-packages/lifelines/utils/__init__.py:1102: ConvergenceWarning: Column(s) ['PC10', 'PC11', 'PC12', 'PC13', 'PC14', 'PC15', 'PC16', 'PC17', 'PC18', 'PC19', 'PC2', 'PC20', 'PC3', 'PC4', 'PC5', 'PC6', 'PC7', 'PC8', 'PC9'] have very low variance. This may harm convergence. 1) Are you using formula's? Did you mean to add '-1' to the end. 2) Try dropping this redundant column before fitting if convergence fails.\n",
      "\n",
      "  warnings.warn(dedent(warning_text), ConvergenceWarning)\n"
     ]
    },
    {
     "name": "stdout",
     "output_type": "stream",
     "text": [
      "0.03608761534772076 0.8074005256856194\n"
     ]
    }
   ],
   "source": [
    "to_analyze_htn = htn_compare.join(covs,how=\"left\").join(birth,how=\"left\").join(death,how=\"left\").join(raw_baseline,how=\"left\").join(t0array[\"t0\"],how=\"left\")\n",
    "to_analyze_htn[\"start\"] = pd.to_datetime(to_analyze_htn[\"t0\"])\n",
    "to_analyze_htn[\"end\"] = pd.to_datetime(to_analyze_htn[\"date_of_death\"],format='%d/%m/%Y')\n",
    "to_analyze_htn = to_analyze_htn[~((to_analyze_htn.end - to_analyze_htn.start).dt.days<0)]\n",
    "T, E = datetimes_to_durations(to_analyze_htn.start, to_analyze_htn.end,fill_date=datetime.datetime(2021, 9, 30))\n",
    "to_analyze_htn[\"T\"] = T\n",
    "to_analyze_htn[\"E\"] = E\n",
    "to_analyze_htn[\"date_baseline\"] = pd.to_datetime(to_analyze_htn[\"53-0.0\"])\n",
    "to_analyze_htn[\"days_from_baseline\"] = (to_analyze_htn.start - to_analyze_htn.date_baseline).dt.days\n",
    "formodel = to_analyze_htn[mycovs+[\"days_from_baseline\",\"T\",\"E\"]]\n",
    "formodel = formodel[formodel.columns[formodel.var()!=0]]\n",
    "cph = CoxPHFitter()\n",
    "temp = cph.fit(formodel, 'T', event_col='E')\n",
    "logtest = -2 * (cph._ll_null_ - cph.log_likelihood_)\n",
    "rsq = 1 - np.exp(-logtest/cph._n_examples)\n",
    "maxrsq = 1 - np.exp(2 * cph._ll_null_/cph._n_examples)\n",
    "baseliner2=rsq\n",
    "print(rsq,maxrsq)"
   ]
  },
  {
   "cell_type": "code",
   "execution_count": 71,
   "metadata": {},
   "outputs": [
    {
     "name": "stderr",
     "output_type": "stream",
     "text": [
      "/home/unix/rwalters/py39haillibs/lib/python3.9/site-packages/lifelines/utils/__init__.py:1102: ConvergenceWarning: Column(s) ['PC10', 'PC11', 'PC12', 'PC13', 'PC14', 'PC15', 'PC16', 'PC17', 'PC18', 'PC19', 'PC2', 'PC20', 'PC3', 'PC4', 'PC5', 'PC6', 'PC7', 'PC8', 'PC9'] have very low variance. This may harm convergence. 1) Are you using formula's? Did you mean to add '-1' to the end. 2) Try dropping this redundant column before fitting if convergence fails.\n",
      "\n",
      "  warnings.warn(dedent(warning_text), ConvergenceWarning)\n"
     ]
    },
    {
     "name": "stdout",
     "output_type": "stream",
     "text": [
      "f23 1.273393e-03 217393\n"
     ]
    },
    {
     "name": "stderr",
     "output_type": "stream",
     "text": [
      "/home/unix/rwalters/py39haillibs/lib/python3.9/site-packages/lifelines/utils/__init__.py:1102: ConvergenceWarning: Column(s) ['PC10', 'PC11', 'PC12', 'PC13', 'PC14', 'PC15', 'PC16', 'PC17', 'PC18', 'PC19', 'PC2', 'PC20', 'PC3', 'PC4', 'PC5', 'PC6', 'PC7', 'PC8', 'PC9'] have very low variance. This may harm convergence. 1) Are you using formula's? Did you mean to add '-1' to the end. 2) Try dropping this redundant column before fitting if convergence fails.\n",
      "\n",
      "  warnings.warn(dedent(warning_text), ConvergenceWarning)\n"
     ]
    },
    {
     "name": "stdout",
     "output_type": "stream",
     "text": [
      "904 4.334524e-04 217393\n"
     ]
    },
    {
     "name": "stderr",
     "output_type": "stream",
     "text": [
      "/home/unix/rwalters/py39haillibs/lib/python3.9/site-packages/lifelines/utils/__init__.py:1102: ConvergenceWarning: Column(s) ['PC10', 'PC11', 'PC12', 'PC13', 'PC14', 'PC15', 'PC16', 'PC17', 'PC18', 'PC19', 'PC2', 'PC20', 'PC3', 'PC4', 'PC5', 'PC6', 'PC7', 'PC8', 'PC9'] have very low variance. This may harm convergence. 1) Are you using formula's? Did you mean to add '-1' to the end. 2) Try dropping this redundant column before fitting if convergence fails.\n",
      "\n",
      "  warnings.warn(dedent(warning_text), ConvergenceWarning)\n"
     ]
    },
    {
     "name": "stdout",
     "output_type": "stream",
     "text": [
      "884 2.372293e-05 217393\n"
     ]
    },
    {
     "name": "stderr",
     "output_type": "stream",
     "text": [
      "/home/unix/rwalters/py39haillibs/lib/python3.9/site-packages/lifelines/utils/__init__.py:1102: ConvergenceWarning: Column(s) ['PC10', 'PC11', 'PC12', 'PC13', 'PC14', 'PC15', 'PC16', 'PC17', 'PC18', 'PC19', 'PC2', 'PC20', 'PC3', 'PC4', 'PC5', 'PC6', 'PC7', 'PC8', 'PC9'] have very low variance. This may harm convergence. 1) Are you using formula's? Did you mean to add '-1' to the end. 2) Try dropping this redundant column before fitting if convergence fails.\n",
      "\n",
      "  warnings.warn(dedent(warning_text), ConvergenceWarning)\n"
     ]
    },
    {
     "name": "stdout",
     "output_type": "stream",
     "text": [
      "864 1.037691e-04 217393\n"
     ]
    },
    {
     "name": "stderr",
     "output_type": "stream",
     "text": [
      "/home/unix/rwalters/py39haillibs/lib/python3.9/site-packages/lifelines/utils/__init__.py:1102: ConvergenceWarning: Column(s) ['PC10', 'PC11', 'PC12', 'PC13', 'PC14', 'PC15', 'PC16', 'PC17', 'PC18', 'PC19', 'PC2', 'PC20', 'PC3', 'PC4', 'PC5', 'PC6', 'PC7', 'PC8', 'PC9'] have very low variance. This may harm convergence. 1) Are you using formula's? Did you mean to add '-1' to the end. 2) Try dropping this redundant column before fitting if convergence fails.\n",
      "\n",
      "  warnings.warn(dedent(warning_text), ConvergenceWarning)\n"
     ]
    },
    {
     "name": "stdout",
     "output_type": "stream",
     "text": [
      "6164_3 6.100043e-04 217393\n"
     ]
    },
    {
     "name": "stderr",
     "output_type": "stream",
     "text": [
      "/home/unix/rwalters/py39haillibs/lib/python3.9/site-packages/lifelines/utils/__init__.py:1102: ConvergenceWarning: Column(s) ['PC10', 'PC11', 'PC12', 'PC13', 'PC14', 'PC15', 'PC16', 'PC17', 'PC18', 'PC19', 'PC2', 'PC20', 'PC3', 'PC4', 'PC5', 'PC6', 'PC7', 'PC8', 'PC9'] have very low variance. This may harm convergence. 1) Are you using formula's? Did you mean to add '-1' to the end. 2) Try dropping this redundant column before fitting if convergence fails.\n",
      "\n",
      "  warnings.warn(dedent(warning_text), ConvergenceWarning)\n"
     ]
    },
    {
     "name": "stdout",
     "output_type": "stream",
     "text": [
      "6164_2 1.118763e-03 217393\n"
     ]
    },
    {
     "name": "stderr",
     "output_type": "stream",
     "text": [
      "/home/unix/rwalters/py39haillibs/lib/python3.9/site-packages/lifelines/utils/__init__.py:1102: ConvergenceWarning: Column(s) ['PC10', 'PC11', 'PC12', 'PC13', 'PC14', 'PC15', 'PC16', 'PC17', 'PC18', 'PC19', 'PC2', 'PC20', 'PC3', 'PC4', 'PC5', 'PC6', 'PC7', 'PC8', 'PC9'] have very low variance. This may harm convergence. 1) Are you using formula's? Did you mean to add '-1' to the end. 2) Try dropping this redundant column before fitting if convergence fails.\n",
      "\n",
      "  warnings.warn(dedent(warning_text), ConvergenceWarning)\n"
     ]
    },
    {
     "name": "stdout",
     "output_type": "stream",
     "text": [
      "6160_1 6.722977e-04 217393\n"
     ]
    },
    {
     "name": "stderr",
     "output_type": "stream",
     "text": [
      "/home/unix/rwalters/py39haillibs/lib/python3.9/site-packages/lifelines/utils/__init__.py:1102: ConvergenceWarning: Column(s) ['PC10', 'PC11', 'PC12', 'PC13', 'PC14', 'PC15', 'PC16', 'PC17', 'PC18', 'PC19', 'PC2', 'PC20', 'PC3', 'PC4', 'PC5', 'PC6', 'PC7', 'PC8', 'PC9'] have very low variance. This may harm convergence. 1) Are you using formula's? Did you mean to add '-1' to the end. 2) Try dropping this redundant column before fitting if convergence fails.\n",
      "\n",
      "  warnings.warn(dedent(warning_text), ConvergenceWarning)\n"
     ]
    },
    {
     "name": "stdout",
     "output_type": "stream",
     "text": [
      "1060 2.259313e-05 217393\n"
     ]
    },
    {
     "name": "stderr",
     "output_type": "stream",
     "text": [
      "/home/unix/rwalters/py39haillibs/lib/python3.9/site-packages/lifelines/utils/__init__.py:1102: ConvergenceWarning: Column(s) ['PC10', 'PC11', 'PC12', 'PC13', 'PC14', 'PC15', 'PC16', 'PC17', 'PC18', 'PC19', 'PC2', 'PC20', 'PC3', 'PC4', 'PC5', 'PC6', 'PC7', 'PC8', 'PC9'] have very low variance. This may harm convergence. 1) Are you using formula's? Did you mean to add '-1' to the end. 2) Try dropping this redundant column before fitting if convergence fails.\n",
      "\n",
      "  warnings.warn(dedent(warning_text), ConvergenceWarning)\n"
     ]
    },
    {
     "name": "stdout",
     "output_type": "stream",
     "text": [
      "6162_4 1.458809e-04 217393\n"
     ]
    },
    {
     "name": "stderr",
     "output_type": "stream",
     "text": [
      "/home/unix/rwalters/py39haillibs/lib/python3.9/site-packages/lifelines/utils/__init__.py:1102: ConvergenceWarning: Column(s) ['PC10', 'PC11', 'PC12', 'PC13', 'PC14', 'PC15', 'PC16', 'PC17', 'PC18', 'PC19', 'PC2', 'PC20', 'PC3', 'PC4', 'PC5', 'PC6', 'PC7', 'PC8', 'PC9'] have very low variance. This may harm convergence. 1) Are you using formula's? Did you mean to add '-1' to the end. 2) Try dropping this redundant column before fitting if convergence fails.\n",
      "\n",
      "  warnings.warn(dedent(warning_text), ConvergenceWarning)\n"
     ]
    },
    {
     "name": "stdout",
     "output_type": "stream",
     "text": [
      "894 1.655790e-04 217393\n"
     ]
    },
    {
     "name": "stderr",
     "output_type": "stream",
     "text": [
      "/home/unix/rwalters/py39haillibs/lib/python3.9/site-packages/lifelines/utils/__init__.py:1102: ConvergenceWarning: Column(s) ['PC10', 'PC11', 'PC12', 'PC13', 'PC14', 'PC15', 'PC16', 'PC17', 'PC18', 'PC19', 'PC2', 'PC20', 'PC3', 'PC4', 'PC5', 'PC6', 'PC7', 'PC8', 'PC9'] have very low variance. This may harm convergence. 1) Are you using formula's? Did you mean to add '-1' to the end. 2) Try dropping this redundant column before fitting if convergence fails.\n",
      "\n",
      "  warnings.warn(dedent(warning_text), ConvergenceWarning)\n"
     ]
    },
    {
     "name": "stdout",
     "output_type": "stream",
     "text": [
      "1050 6.747931e-10 217393\n"
     ]
    },
    {
     "name": "stderr",
     "output_type": "stream",
     "text": [
      "/home/unix/rwalters/py39haillibs/lib/python3.9/site-packages/lifelines/utils/__init__.py:1102: ConvergenceWarning: Column(s) ['PC10', 'PC11', 'PC12', 'PC13', 'PC14', 'PC15', 'PC16', 'PC17', 'PC18', 'PC19', 'PC2', 'PC20', 'PC3', 'PC4', 'PC5', 'PC6', 'PC7', 'PC8', 'PC9'] have very low variance. This may harm convergence. 1) Are you using formula's? Did you mean to add '-1' to the end. 2) Try dropping this redundant column before fitting if convergence fails.\n",
      "\n",
      "  warnings.warn(dedent(warning_text), ConvergenceWarning)\n"
     ]
    },
    {
     "name": "stdout",
     "output_type": "stream",
     "text": [
      "f23_z 9.959917e-04 217393\n"
     ]
    }
   ],
   "source": [
    "items = [\"f23\",\"904\",\"884\",\"864\",\"6164_3\",\"6164_2\",\"6160_1\",\"1060\",\"6162_4\",\"894\",\"1050\",\"f23_z\"]\n",
    "outframe = pd.DataFrame(index=items, columns=[\"inc_r2\"])\n",
    "for item in items:\n",
    "    to_analyze_htn = htn_compare.join(covs,how=\"left\").join(birth,how=\"left\").join(death,how=\"left\").join(raw_baseline,how=\"left\").join(t0array[\"t0\"],how=\"left\")\n",
    "    to_analyze_htn[\"start\"] = pd.to_datetime(to_analyze_htn[\"t0\"])\n",
    "    to_analyze_htn[\"end\"] = pd.to_datetime(to_analyze_htn[\"date_of_death\"],format='%d/%m/%Y')\n",
    "    to_analyze_htn = to_analyze_htn[~((to_analyze_htn.end - to_analyze_htn.start).dt.days<0)]\n",
    "    T, E = datetimes_to_durations(to_analyze_htn.start, to_analyze_htn.end,fill_date=datetime.datetime(2021, 9, 30))\n",
    "    to_analyze_htn[\"T\"] = T\n",
    "    to_analyze_htn[\"E\"] = E\n",
    "    to_analyze_htn[\"date_baseline\"] = pd.to_datetime(to_analyze_htn[\"53-0.0\"])\n",
    "    to_analyze_htn[\"days_from_baseline\"] = (to_analyze_htn.start - to_analyze_htn.date_baseline).dt.days\n",
    "    formodel = to_analyze_htn[[item]+mycovs+[\"days_from_baseline\",\"T\",\"E\"]]\n",
    "    formodel = formodel[formodel.columns[formodel.var()!=0]]\n",
    "    cph = CoxPHFitter()\n",
    "    temp = cph.fit(formodel, 'T', event_col='E')\n",
    "    logtest = -2 * (cph._ll_null_ - cph.log_likelihood_)\n",
    "    rsq = 1 - np.exp(-logtest/cph._n_examples)\n",
    "    maxrsq = 1 - np.exp(2 * cph._ll_null_/cph._n_examples)\n",
    "    outframe.loc[item,\"inc_r2\"] = rsq-baseliner2\n",
    "    print(item,\"{:e}\".format(rsq-baseliner2), formodel[~formodel.isnull().any(axis=1)].shape[0])\n",
    "    # temp.print_summary()"
   ]
  },
  {
   "cell_type": "code",
   "execution_count": 29,
   "metadata": {},
   "outputs": [],
   "source": [
    "all_h2_rg = pd.read_table(\"/stanley/robinson/ccarey/UKBB/factor_gwas/factor_analysis/cfa/FINAL_CFA/FACTOR_SCORES/core/wls_gwas/FINAL/all_h2_rg.tsv\",index_col=\"factor\")"
   ]
  },
  {
   "cell_type": "code",
   "execution_count": 30,
   "metadata": {},
   "outputs": [],
   "source": [
    "cfafactors = pd.read_csv(\"/stanley/robinson/ccarey/UKBB/factor_gwas/factor_analysis/cfa/FINAL_CFA/TRAINING/redux10point2/for_jupyter/loadings.txt\",sep=\"\\t\")"
   ]
  },
  {
   "cell_type": "code",
   "execution_count": 31,
   "metadata": {},
   "outputs": [],
   "source": [
    "factordict = cfafactors.groupby('factor')[\"item \"].apply(lambda x: x.tolist()).to_dict()"
   ]
  },
  {
   "cell_type": "code",
   "execution_count": 32,
   "metadata": {},
   "outputs": [
    {
     "name": "stderr",
     "output_type": "stream",
     "text": [
      "/local/scratch/41710693.1.interactive/ipykernel_204065/135564914.py:1: DtypeWarning: Columns (2,792) have mixed types. Specify dtype option on import or set low_memory=False.\n",
      "  nealeh2 = pd.read_csv(\"/stanley/robinson/ccarey/UKBB/factor_gwas/factor_analysis/cfa/FINAL_CFA/FACTOR_SCORES/core/wls_gwas/ukb31063_h2_all.02Oct2019.tsv.gz\", sep=\"\\t\")\n"
     ]
    }
   ],
   "source": [
    "nealeh2 = pd.read_csv(\"/stanley/robinson/ccarey/UKBB/factor_gwas/factor_analysis/cfa/FINAL_CFA/FACTOR_SCORES/core/wls_gwas/ukb31063_h2_all.02Oct2019.tsv.gz\", sep=\"\\t\")"
   ]
  },
  {
   "cell_type": "code",
   "execution_count": 33,
   "metadata": {},
   "outputs": [],
   "source": [
    "nealeh2_bothsexes = nealeh2[nealeh2.sex==\"both_sexes\"]\n",
    "nealeh2_bothsexes_dropirnt = nealeh2_bothsexes[~(nealeh2_bothsexes.variable_type==\"continuous_irnt\")]\n",
    "nealeh2_bothsexes_dropirnt.loc[nealeh2_bothsexes_dropirnt.phenotype.apply(lambda x: \"_raw\" in x),\"phenotype\"] = nealeh2_bothsexes_dropirnt[nealeh2_bothsexes_dropirnt.phenotype.apply(lambda x: \"_raw\" in x)].phenotype.apply(lambda x: x.split(\"_\")[0])\n",
    "nealeh2_bothsexes_dropirnt.loc[nealeh2_bothsexes_dropirnt.source==\"icd10\",\"phenotype\"] = nealeh2_bothsexes_dropirnt.loc[nealeh2_bothsexes_dropirnt.source==\"icd10\"].phenotype.apply(lambda x: \"41202_\"+x)"
   ]
  },
  {
   "cell_type": "code",
   "execution_count": 34,
   "metadata": {},
   "outputs": [],
   "source": [
    "cfaitems = cfafactors[\"item \"].values\n",
    "cfaitems = [x[1:] for x in cfaitems]"
   ]
  },
  {
   "cell_type": "code",
   "execution_count": 35,
   "metadata": {},
   "outputs": [],
   "source": [
    "nealeh2_items = nealeh2_bothsexes_dropirnt[nealeh2_bothsexes_dropirnt.phenotype.isin(cfaitems)]"
   ]
  },
  {
   "cell_type": "code",
   "execution_count": 36,
   "metadata": {},
   "outputs": [],
   "source": [
    "nealeh2_items_only = nealeh2_items[[\"phenotype\",\"h2_observed\",\"h2_observed_se\",\"Neff\"]].set_index(\"phenotype\")"
   ]
  },
  {
   "cell_type": "code",
   "execution_count": 37,
   "metadata": {},
   "outputs": [],
   "source": [
    "all_h2_rg[\"h2_lower\"] = all_h2_rg[\"h2_full\"]-all_h2_rg[\"h2_se_full\"]\n",
    "all_h2_rg[\"h2_upper\"] = all_h2_rg[\"h2_full\"]+all_h2_rg[\"h2_se_full\"]\n",
    "all_h2_rg[\"h2\"] = all_h2_rg[\"h2_full\"]"
   ]
  },
  {
   "cell_type": "code",
   "execution_count": 38,
   "metadata": {},
   "outputs": [],
   "source": [
    "cfafactors[\"abs_loading\"] = abs(cfafactors[\"loading\"])\n",
    "cfafactors = cfafactors.sort_values([\"factor\",\"abs_loading\"],ascending=[True,False])\n",
    "cfafactors[\"orderednum\"] = cfafactors.groupby('factor').cumcount().add(1)\n",
    "cfafactors[\"item\"] = cfafactors.apply(lambda x: x[\"item \"][1:],axis=1)\n",
    "cfafactors = cfafactors.drop(\"item \",axis=1)\n",
    "cfafactors = cfafactors[cfafactors.orderednum<=10]"
   ]
  },
  {
   "cell_type": "code",
   "execution_count": 39,
   "metadata": {},
   "outputs": [],
   "source": [
    "phenoNames = pd.read_csv(\"/psych/genetics_data/ccarey/UKBB/factor_gwas/core_data_group/FA_core_FieldNames.csv\",index_col=\"Unnamed: 0\")\n",
    "\n",
    "phenolabels = pd.Series(phenoNames[\"name\"],index=phenoNames.index).to_dict()"
   ]
  },
  {
   "cell_type": "code",
   "execution_count": 40,
   "metadata": {},
   "outputs": [
    {
     "name": "stderr",
     "output_type": "stream",
     "text": [
      "/local/scratch/41710693.1.interactive/ipykernel_204065/183396293.py:4: SettingWithCopyWarning: \n",
      "A value is trying to be set on a copy of a slice from a DataFrame.\n",
      "Try using .loc[row_indexer,col_indexer] = value instead\n",
      "\n",
      "See the caveats in the documentation: https://pandas.pydata.org/pandas-docs/stable/user_guide/indexing.html#returning-a-view-versus-a-copy\n",
      "  cfafac[\"h2\"] = cfafac[\"item\"].apply(lambda x: nealeh2_items_only.loc[x,\"h2_observed\"])\n",
      "/local/scratch/41710693.1.interactive/ipykernel_204065/183396293.py:5: SettingWithCopyWarning: \n",
      "A value is trying to be set on a copy of a slice from a DataFrame.\n",
      "Try using .loc[row_indexer,col_indexer] = value instead\n",
      "\n",
      "See the caveats in the documentation: https://pandas.pydata.org/pandas-docs/stable/user_guide/indexing.html#returning-a-view-versus-a-copy\n",
      "  cfafac[\"h2_se\"] = cfafac[\"item\"].apply(lambda x: nealeh2_items_only.loc[x,\"h2_observed_se\"])\n",
      "/local/scratch/41710693.1.interactive/ipykernel_204065/183396293.py:6: SettingWithCopyWarning: \n",
      "A value is trying to be set on a copy of a slice from a DataFrame.\n",
      "Try using .loc[row_indexer,col_indexer] = value instead\n",
      "\n",
      "See the caveats in the documentation: https://pandas.pydata.org/pandas-docs/stable/user_guide/indexing.html#returning-a-view-versus-a-copy\n",
      "  cfafac[\"h2_lower\"] = cfafac.h2-cfafac.h2_se\n",
      "/local/scratch/41710693.1.interactive/ipykernel_204065/183396293.py:7: SettingWithCopyWarning: \n",
      "A value is trying to be set on a copy of a slice from a DataFrame.\n",
      "Try using .loc[row_indexer,col_indexer] = value instead\n",
      "\n",
      "See the caveats in the documentation: https://pandas.pydata.org/pandas-docs/stable/user_guide/indexing.html#returning-a-view-versus-a-copy\n",
      "  cfafac[\"h2_upper\"] = cfafac.h2+cfafac.h2_se\n",
      "/local/scratch/41710693.1.interactive/ipykernel_204065/183396293.py:11: FutureWarning: The frame.append method is deprecated and will be removed from pandas in a future version. Use pandas.concat instead.\n",
      "  toplotfactor = toplotfactor.append({\"item\" : \"f23\", \"h2\" : all_h2_rg.loc[factor,\"h2\"], \"h2_lower\" : all_h2_rg.loc[factor,\"h2_lower\"], \"h2_upper\" : all_h2_rg.loc[factor,\"h2_upper\"]},ignore_index=True)\n",
      "/local/scratch/41710693.1.interactive/ipykernel_204065/183396293.py:16: FutureWarning: The frame.append method is deprecated and will be removed from pandas in a future version. Use pandas.concat instead.\n",
      "  toplotz = toplotz.append({\"item\" : \"f23_z\", \"h2\" : zh2, \"h2_lower\" : zh2-zse, \"h2_upper\" : zh2+zse},ignore_index=True)\n"
     ]
    }
   ],
   "source": [
    "for factor in [\"f23\"]:\n",
    "    #print(factor)\n",
    "    cfafac = cfafactors.loc[cfafactors[\"factor\"]==factor]\n",
    "    cfafac[\"h2\"] = cfafac[\"item\"].apply(lambda x: nealeh2_items_only.loc[x,\"h2_observed\"])\n",
    "    cfafac[\"h2_se\"] = cfafac[\"item\"].apply(lambda x: nealeh2_items_only.loc[x,\"h2_observed_se\"])\n",
    "    cfafac[\"h2_lower\"] = cfafac.h2-cfafac.h2_se\n",
    "    cfafac[\"h2_upper\"] = cfafac.h2+cfafac.h2_se\n",
    "    \n",
    "    toplot = cfafac[[\"item\",\"h2\",\"h2_lower\",\"h2_upper\"]]\n",
    "    toplotfactor = pd.DataFrame(columns=[\"item \",\"h2\",\"h2_lower\",\"h2_upper\"])\n",
    "    toplotfactor = toplotfactor.append({\"item\" : \"f23\", \"h2\" : all_h2_rg.loc[factor,\"h2\"], \"h2_lower\" : all_h2_rg.loc[factor,\"h2_lower\"], \"h2_upper\" : all_h2_rg.loc[factor,\"h2_upper\"]},ignore_index=True)\n",
    "\n",
    "    toplotz = pd.DataFrame(columns=[\"item \",\"h2\",\"h2_lower\",\"h2_upper\"])\n",
    "    zh2 = 0.05\n",
    "    zse = 0.004\n",
    "    toplotz = toplotz.append({\"item\" : \"f23_z\", \"h2\" : zh2, \"h2_lower\" : zh2-zse, \"h2_upper\" : zh2+zse},ignore_index=True)\n",
    "     \n",
    "    toplot = pd.concat([toplotfactor,toplotz, toplot]).reset_index(drop=True).set_index(\"item\")   \n",
    "\n",
    "    toplot[\"y\"] = list(range(1,toplot.shape[0]+1))[::-1]\n",
    "    toplot[\"color\"] = \"orange\"\n",
    "    toplot.loc[\"f23\",\"color\"]=\"blue\"\n",
    "    toplot.loc[\"f23_z\",\"color\"]=\"red\""
   ]
  },
  {
   "cell_type": "code",
   "execution_count": 41,
   "metadata": {},
   "outputs": [],
   "source": [
    "toplot = toplot.join(outframe)"
   ]
  },
  {
   "cell_type": "code",
   "execution_count": 42,
   "metadata": {},
   "outputs": [],
   "source": [
    "import matplotlib.gridspec as gridspec"
   ]
  },
  {
   "cell_type": "code",
   "execution_count": 43,
   "metadata": {},
   "outputs": [],
   "source": [
    "prs_results = pd.read_csv(\"/stanley/robinson/ccarey/factor_paper_revision/prs_results/physed.tsv\",sep=\"\\t\")"
   ]
  },
  {
   "cell_type": "code",
   "execution_count": 44,
   "metadata": {},
   "outputs": [],
   "source": [
    "dfp = prs_results.pivot(index='trait', columns='PRS', values='r2')*100"
   ]
  },
  {
   "cell_type": "code",
   "execution_count": 45,
   "metadata": {},
   "outputs": [],
   "source": [
    "col_order = [\"Factor 23\",\"Days/week vigorous physical activity 10+ minutes\",\"Days/week moderate physical activity 10+ minutes\",\"Days/week walked 10+ minutes\",\"Strenuous sports in last 4 weeks\",\"Other physical activities in last 4 weeks\",\"Sports club or gym\",\"Time outdoors in winter\",\"Cycling for transportation\",\"Duration of moderate activity\",\"Time outdoors in summer\"]\n",
    "index_order = [\"Hours of Physical Activity Per Week\",\"BMI\",\"Blood Pressure\",\"Diabetes\",\"Cardiovascular Disease\"][::-1]\n",
    "dfp = dfp.loc[index_order,col_order]"
   ]
  },
  {
   "cell_type": "code",
   "execution_count": 46,
   "metadata": {},
   "outputs": [],
   "source": [
    "dfp = dfp.T[0:4][::-1]"
   ]
  },
  {
   "cell_type": "code",
   "execution_count": 47,
   "metadata": {},
   "outputs": [],
   "source": [
    "yerr_lower = prs_results.pivot(index='trait', columns='PRS', values='lower')*100\n",
    "yerr_lower = dfp-yerr_lower.T.loc[col_order[0:4][::-1],index_order]"
   ]
  },
  {
   "cell_type": "code",
   "execution_count": 48,
   "metadata": {},
   "outputs": [],
   "source": [
    "yerr_upper = prs_results.pivot(index='trait', columns='PRS', values='upper')*100\n",
    "yerr_upper = yerr_upper.T.loc[col_order[0:4][::-1],index_order]-dfp"
   ]
  },
  {
   "cell_type": "code",
   "execution_count": 59,
   "metadata": {},
   "outputs": [],
   "source": [
    "err = []\n",
    "for col in yerr_lower:  # Iterate over bar groups (represented as columns)\n",
    "    err.append([yerr_lower[col].values, yerr_upper[col].values])"
   ]
  },
  {
   "cell_type": "code",
   "execution_count": 62,
   "metadata": {},
   "outputs": [
    {
     "ename": "TypeError",
     "evalue": "to_csv() got an unexpected keyword argument 'index_col'",
     "output_type": "error",
     "traceback": [
      "\u001b[0;31m---------------------------------------------------------------------------\u001b[0m",
      "\u001b[0;31mTypeError\u001b[0m                                 Traceback (most recent call last)",
      "\u001b[0;32m/local/scratch/41710693.1.interactive/ipykernel_204065/209385262.py\u001b[0m in \u001b[0;36m<module>\u001b[0;34m\u001b[0m\n\u001b[1;32m      1\u001b[0m \u001b[0mtoplot\u001b[0m\u001b[0;34m.\u001b[0m\u001b[0mto_csv\u001b[0m\u001b[0;34m(\u001b[0m\u001b[0;34m\"/stanley/robinson/ccarey/UKBB/factor_gwas/factor_analysis/cfa/FINAL_CFA/notebooks/fig6_interim/toplot.csv\"\u001b[0m\u001b[0;34m)\u001b[0m\u001b[0;34m\u001b[0m\u001b[0;34m\u001b[0m\u001b[0m\n\u001b[0;32m----> 2\u001b[0;31m \u001b[0mdfp\u001b[0m\u001b[0;34m.\u001b[0m\u001b[0mto_csv\u001b[0m\u001b[0;34m(\u001b[0m\u001b[0;34m\"/stanley/robinson/ccarey/UKBB/factor_gwas/factor_analysis/cfa/FINAL_CFA/notebooks/fig6_interim/dfp.csv\"\u001b[0m\u001b[0;34m,\u001b[0m \u001b[0mindex_col\u001b[0m\u001b[0;34m=\u001b[0m\u001b[0;34m'PRS'\u001b[0m\u001b[0;34m)\u001b[0m\u001b[0;34m\u001b[0m\u001b[0;34m\u001b[0m\u001b[0m\n\u001b[0m\u001b[1;32m      3\u001b[0m \u001b[0merr\u001b[0m\u001b[0;34m\u001b[0m\u001b[0;34m\u001b[0m\u001b[0m\n",
      "\u001b[0;31mTypeError\u001b[0m: to_csv() got an unexpected keyword argument 'index_col'"
     ]
    }
   ],
   "source": [
    "toplot.to_csv(\"/stanley/robinson/ccarey/UKBB/factor_gwas/factor_analysis/cfa/FINAL_CFA/notebooks/fig6_interim/toplot.csv\")\n",
    "dfp.to_csv(\"/stanley/robinson/ccarey/UKBB/factor_gwas/factor_analysis/cfa/FINAL_CFA/notebooks/fig6_interim/dfp.csv\")\n",
    "err"
   ]
  },
  {
   "cell_type": "code",
   "execution_count": 50,
   "metadata": {},
   "outputs": [
    {
     "name": "stderr",
     "output_type": "stream",
     "text": [
      "/local/scratch/41710693.1.interactive/ipykernel_204065/3362858056.py:45: UserWarning: There are no gridspecs with layoutgrids. Possibly did not call parent GridSpec with the \"figure\" keyword\n",
      "  plt.savefig(\"/stanley/robinson/ccarey/factor_paper_revision/figures_RKWchecklist/Figure6_journal_RKW.pdf\",bbox_inches=\"tight\",format=\"pdf\")\n",
      "/local/scratch/41710693.1.interactive/ipykernel_204065/3362858056.py:45: UserWarning: There are no gridspecs with layoutgrids. Possibly did not call parent GridSpec with the \"figure\" keyword\n",
      "  plt.savefig(\"/stanley/robinson/ccarey/factor_paper_revision/figures_RKWchecklist/Figure6_journal_RKW.pdf\",bbox_inches=\"tight\",format=\"pdf\")\n",
      "/broad/software/free/Linux/redhat_7_x86_64/pkgs/anaconda3_2022.10/lib/python3.9/site-packages/IPython/core/pylabtools.py:151: UserWarning: There are no gridspecs with layoutgrids. Possibly did not call parent GridSpec with the \"figure\" keyword\n",
      "  fig.canvas.print_figure(bytes_io, **kw)\n"
     ]
    },
    {
     "data": {
      "image/png": "[encoded data removed]",
      "text/plain": [
       "<Figure size 1000x800 with 3 Axes>"
      ]
     },
     "metadata": {},
     "output_type": "display_data"
    }
   ],
   "source": [
    "#fig, ax = plt.subplots(figsize=(6,5))\n",
    "fig = plt.figure(figsize=(10,8),constrained_layout=True)\n",
    "gs = gridspec.GridSpec(2, 2,width_ratios=[1,1])\n",
    "\n",
    "ax = plt.subplot(gs[0,0])\n",
    "\n",
    "plt.scatter(x=toplot.inc_r2,y=toplot.y,color=toplot.color, s=75)\n",
    "ylabels = col_order[1:][::-1] + [\"Sum of Item Z-Scores\",\"Factor 23\"]\n",
    "plt.yticks(range(1,len(toplot.h2)+1), ylabels,fontsize=10)\n",
    "plt.xticks(fontsize=8)\n",
    "plt.xlabel(\"Incremental R2 for Mortality Prediction\",fontsize=10)\n",
    "\n",
    "ax = plt.subplot(gs[0,1])\n",
    "\n",
    "plt.scatter(x=toplot.h2,y=toplot.y,color=toplot.color, s=75)\n",
    "ylabels = col_order[1:][::-1] + [\"Sum of Item Z-Scores\",\"Factor 23\"]\n",
    "plt.yticks(range(1,len(toplot.h2)+1), ylabels,fontsize=10)\n",
    "plt.xticks(fontsize=8)\n",
    "for item in toplot.index:\n",
    "    lower = toplot.loc[item,\"h2_lower\"]\n",
    "    upper = toplot.loc[item,\"h2_upper\"]\n",
    "    yval = toplot.loc[item,\"y\"]\n",
    "    plt.plot([lower,upper],[yval,yval],color=toplot.loc[item,\"color\"],linewidth=3)\n",
    "plt.xlabel(\"SNP-based heritability\",fontsize=10)\n",
    "plt.gca().yaxis.set_visible(False)\n",
    "\n",
    "ax = plt.subplot(gs[1,:])\n",
    "\n",
    "#dfp.plot(kind=\"barh\",xerr=err,cmap=plt.get_cmap(\"Set3\"),width=0.9,ax=ax)\n",
    "dfp.plot(kind=\"barh\",xerr=np.asarray(err),cmap=plt.get_cmap(\"Set3\"),width=0.9,ax=ax)\n",
    "plt.gca().set_ylabel(\"\")\n",
    "plt.gca().set_xlabel(\"% variance explained in trait by PGS in Add Health\")\n",
    "plt.gca().set_xlim([0,4.75])\n",
    "plt.gca().yaxis.set_tick_params(length=0)\n",
    "plt.setp(plt.gca().get_xticklabels(), rotation=0, horizontalalignment='center')\n",
    "#plt.legend(bbox_to_anchor=(1.05, 1.0), loc='upper left')\n",
    "\n",
    "fig.text(-0.25,0.95, \"A\", \n",
    "      fontsize=16, fontweight='bold', va='top', ha='right')\n",
    "fig.text(0.55,0.95, \"B\", \n",
    "      fontsize=16, fontweight='bold', va='top', ha='right')\n",
    "fig.text(-0.25,0.5, \"C\", \n",
    "      fontsize=16, fontweight='bold', va='top', ha='right')\n",
    "\n",
    "plt.savefig(\"/stanley/robinson/ccarey/factor_paper_revision/figures_RKWchecklist/Figure6_journal_RKW.pdf\",bbox_inches=\"tight\",format=\"pdf\")"
   ]
  },
  {
   "cell_type": "code",
   "execution_count": null,
   "metadata": {},
   "outputs": [],
   "source": [
    "dfp.plot(kind=\"barh\",xerr=np.asarray(err),cmap=plt.get_cmap(\"Set3\"),width=0.9)\n",
    "plt.gca().set_xlim([0,5])\n",
    "plt.gca().yaxis.set_tick_params(length=0)\n",
    "plt.gca().set_ylabel(\"\")"
   ]
  },
  {
   "cell_type": "code",
   "execution_count": 57,
   "metadata": {},
   "outputs": [
    {
     "data": {
      "text/plain": [
       "array([[[0.05, 0.04, 0.1 , 1.2 ],\n",
       "        [0.02, 0.03, 0.08, 1.3 ]],\n",
       "\n",
       "       [[0.04, 0.04, 0.1 , 0.3 ],\n",
       "        [0.03, 0.02, 0.2 , 0.3 ]],\n",
       "\n",
       "       [[0.03, 0.04, 0.4 , 0.4 ],\n",
       "        [0.03, 0.04, 0.4 , 0.4 ]],\n",
       "\n",
       "       [[0.05, 0.2 , 0.3 , 0.5 ],\n",
       "        [0.04, 0.3 , 0.3 , 0.6 ]],\n",
       "\n",
       "       [[0.04, 0.3 , 0.3 , 0.5 ],\n",
       "        [0.03, 0.3 , 0.4 , 0.4 ]]])"
      ]
     },
     "execution_count": 57,
     "metadata": {},
     "output_type": "execute_result"
    }
   ],
   "source": [
    "np.asarray(err)"
   ]
  },
  {
   "cell_type": "code",
   "execution_count": 64,
   "metadata": {},
   "outputs": [
    {
     "data": {
      "text/html": [
       "<div>\n",
       "<style scoped>\n",
       "    .dataframe tbody tr th:only-of-type {\n",
       "        vertical-align: middle;\n",
       "    }\n",
       "\n",
       "    .dataframe tbody tr th {\n",
       "        vertical-align: top;\n",
       "    }\n",
       "\n",
       "    .dataframe thead th {\n",
       "        text-align: right;\n",
       "    }\n",
       "</style>\n",
       "<table border=\"1\" class=\"dataframe\">\n",
       "  <thead>\n",
       "    <tr style=\"text-align: right;\">\n",
       "      <th></th>\n",
       "      <th>phenotype</th>\n",
       "      <th>sex</th>\n",
       "      <th>dilute</th>\n",
       "      <th>gwas_file</th>\n",
       "      <th>variable_type</th>\n",
       "      <th>n_missing</th>\n",
       "      <th>source</th>\n",
       "      <th>description</th>\n",
       "      <th>n</th>\n",
       "      <th>n_cases</th>\n",
       "      <th>...</th>\n",
       "      <th>isBadPower</th>\n",
       "      <th>isLowNeff</th>\n",
       "      <th>isMidNeff</th>\n",
       "      <th>isExtremeSE</th>\n",
       "      <th>isHighSE</th>\n",
       "      <th>isSexBias</th>\n",
       "      <th>isBadOrdinal</th>\n",
       "      <th>isNumericOrdinal</th>\n",
       "      <th>conf_simple</th>\n",
       "      <th>h2_sig</th>\n",
       "    </tr>\n",
       "  </thead>\n",
       "  <tbody>\n",
       "    <tr>\n",
       "      <th>129</th>\n",
       "      <td>1050</td>\n",
       "      <td>both_sexes</td>\n",
       "      <td>NaN</td>\n",
       "      <td>1050.gwas.imputed_v3.both_sexes.tsv.bgz</td>\n",
       "      <td>ordinal</td>\n",
       "      <td>33477</td>\n",
       "      <td>phesant</td>\n",
       "      <td>Time spend outdoors in summer</td>\n",
       "      <td>327717</td>\n",
       "      <td>NaN</td>\n",
       "      <td>...</td>\n",
       "      <td>False</td>\n",
       "      <td>False</td>\n",
       "      <td>False</td>\n",
       "      <td>False</td>\n",
       "      <td>False</td>\n",
       "      <td>False</td>\n",
       "      <td>False</td>\n",
       "      <td>False</td>\n",
       "      <td>high</td>\n",
       "      <td>z7</td>\n",
       "    </tr>\n",
       "    <tr>\n",
       "      <th>130</th>\n",
       "      <td>1060</td>\n",
       "      <td>both_sexes</td>\n",
       "      <td>NaN</td>\n",
       "      <td>1060.gwas.imputed_v3.both_sexes.tsv.bgz</td>\n",
       "      <td>ordinal</td>\n",
       "      <td>76305</td>\n",
       "      <td>phesant</td>\n",
       "      <td>Time spent outdoors in winter</td>\n",
       "      <td>284889</td>\n",
       "      <td>NaN</td>\n",
       "      <td>...</td>\n",
       "      <td>False</td>\n",
       "      <td>False</td>\n",
       "      <td>False</td>\n",
       "      <td>False</td>\n",
       "      <td>False</td>\n",
       "      <td>False</td>\n",
       "      <td>False</td>\n",
       "      <td>False</td>\n",
       "      <td>high</td>\n",
       "      <td>z7</td>\n",
       "    </tr>\n",
       "    <tr>\n",
       "      <th>3214</th>\n",
       "      <td>6160_1</td>\n",
       "      <td>both_sexes</td>\n",
       "      <td>NaN</td>\n",
       "      <td>6160_1.gwas.imputed_v3.both_sexes.tsv.bgz</td>\n",
       "      <td>binary</td>\n",
       "      <td>1131</td>\n",
       "      <td>phesant</td>\n",
       "      <td>Leisure/social activities: Sports club or gym</td>\n",
       "      <td>360063</td>\n",
       "      <td>108473.0</td>\n",
       "      <td>...</td>\n",
       "      <td>False</td>\n",
       "      <td>False</td>\n",
       "      <td>False</td>\n",
       "      <td>False</td>\n",
       "      <td>False</td>\n",
       "      <td>False</td>\n",
       "      <td>False</td>\n",
       "      <td>False</td>\n",
       "      <td>high</td>\n",
       "      <td>z7</td>\n",
       "    </tr>\n",
       "    <tr>\n",
       "      <th>3224</th>\n",
       "      <td>6162_4</td>\n",
       "      <td>both_sexes</td>\n",
       "      <td>NaN</td>\n",
       "      <td>6162_4.gwas.imputed_v3.both_sexes.tsv.bgz</td>\n",
       "      <td>binary</td>\n",
       "      <td>1870</td>\n",
       "      <td>phesant</td>\n",
       "      <td>Types of transport used (excluding work): Cycle</td>\n",
       "      <td>359324</td>\n",
       "      <td>26059.0</td>\n",
       "      <td>...</td>\n",
       "      <td>False</td>\n",
       "      <td>False</td>\n",
       "      <td>False</td>\n",
       "      <td>False</td>\n",
       "      <td>False</td>\n",
       "      <td>False</td>\n",
       "      <td>False</td>\n",
       "      <td>False</td>\n",
       "      <td>high</td>\n",
       "      <td>z7</td>\n",
       "    </tr>\n",
       "    <tr>\n",
       "      <th>3227</th>\n",
       "      <td>6164_2</td>\n",
       "      <td>both_sexes</td>\n",
       "      <td>NaN</td>\n",
       "      <td>6164_2.gwas.imputed_v3.both_sexes.tsv.bgz</td>\n",
       "      <td>binary</td>\n",
       "      <td>1931</td>\n",
       "      <td>phesant</td>\n",
       "      <td>Types of physical activity in last 4 weeks: Ot...</td>\n",
       "      <td>359263</td>\n",
       "      <td>174242.0</td>\n",
       "      <td>...</td>\n",
       "      <td>False</td>\n",
       "      <td>False</td>\n",
       "      <td>False</td>\n",
       "      <td>False</td>\n",
       "      <td>False</td>\n",
       "      <td>False</td>\n",
       "      <td>False</td>\n",
       "      <td>False</td>\n",
       "      <td>high</td>\n",
       "      <td>z7</td>\n",
       "    </tr>\n",
       "    <tr>\n",
       "      <th>3228</th>\n",
       "      <td>6164_3</td>\n",
       "      <td>both_sexes</td>\n",
       "      <td>NaN</td>\n",
       "      <td>6164_3.gwas.imputed_v3.both_sexes.tsv.bgz</td>\n",
       "      <td>binary</td>\n",
       "      <td>1931</td>\n",
       "      <td>phesant</td>\n",
       "      <td>Types of physical activity in last 4 weeks: St...</td>\n",
       "      <td>359263</td>\n",
       "      <td>37297.0</td>\n",
       "      <td>...</td>\n",
       "      <td>False</td>\n",
       "      <td>False</td>\n",
       "      <td>False</td>\n",
       "      <td>False</td>\n",
       "      <td>False</td>\n",
       "      <td>False</td>\n",
       "      <td>False</td>\n",
       "      <td>False</td>\n",
       "      <td>high</td>\n",
       "      <td>z7</td>\n",
       "    </tr>\n",
       "    <tr>\n",
       "      <th>3272</th>\n",
       "      <td>864</td>\n",
       "      <td>both_sexes</td>\n",
       "      <td>NaN</td>\n",
       "      <td>864.gwas.imputed_v3.both_sexes.tsv.bgz</td>\n",
       "      <td>ordinal</td>\n",
       "      <td>6164</td>\n",
       "      <td>phesant</td>\n",
       "      <td>Number of days/week walked 10+ minutes</td>\n",
       "      <td>355030</td>\n",
       "      <td>NaN</td>\n",
       "      <td>...</td>\n",
       "      <td>False</td>\n",
       "      <td>False</td>\n",
       "      <td>False</td>\n",
       "      <td>False</td>\n",
       "      <td>False</td>\n",
       "      <td>False</td>\n",
       "      <td>False</td>\n",
       "      <td>False</td>\n",
       "      <td>high</td>\n",
       "      <td>z7</td>\n",
       "    </tr>\n",
       "    <tr>\n",
       "      <th>3275</th>\n",
       "      <td>884</td>\n",
       "      <td>both_sexes</td>\n",
       "      <td>NaN</td>\n",
       "      <td>884.gwas.imputed_v3.both_sexes.tsv.bgz</td>\n",
       "      <td>ordinal</td>\n",
       "      <td>17251</td>\n",
       "      <td>phesant</td>\n",
       "      <td>Number of days/week of moderate physical activ...</td>\n",
       "      <td>343943</td>\n",
       "      <td>NaN</td>\n",
       "      <td>...</td>\n",
       "      <td>False</td>\n",
       "      <td>False</td>\n",
       "      <td>False</td>\n",
       "      <td>False</td>\n",
       "      <td>False</td>\n",
       "      <td>False</td>\n",
       "      <td>False</td>\n",
       "      <td>False</td>\n",
       "      <td>high</td>\n",
       "      <td>z7</td>\n",
       "    </tr>\n",
       "    <tr>\n",
       "      <th>3276</th>\n",
       "      <td>894</td>\n",
       "      <td>both_sexes</td>\n",
       "      <td>NaN</td>\n",
       "      <td>894.gwas.imputed_v3.both_sexes.tsv.bgz</td>\n",
       "      <td>ordinal</td>\n",
       "      <td>92368</td>\n",
       "      <td>phesant</td>\n",
       "      <td>Duration of moderate activity</td>\n",
       "      <td>268826</td>\n",
       "      <td>NaN</td>\n",
       "      <td>...</td>\n",
       "      <td>False</td>\n",
       "      <td>False</td>\n",
       "      <td>False</td>\n",
       "      <td>False</td>\n",
       "      <td>False</td>\n",
       "      <td>False</td>\n",
       "      <td>False</td>\n",
       "      <td>False</td>\n",
       "      <td>high</td>\n",
       "      <td>z7</td>\n",
       "    </tr>\n",
       "    <tr>\n",
       "      <th>3277</th>\n",
       "      <td>904</td>\n",
       "      <td>both_sexes</td>\n",
       "      <td>NaN</td>\n",
       "      <td>904.gwas.imputed_v3.both_sexes.tsv.bgz</td>\n",
       "      <td>ordinal</td>\n",
       "      <td>17110</td>\n",
       "      <td>phesant</td>\n",
       "      <td>Number of days/week of vigorous physical activ...</td>\n",
       "      <td>344084</td>\n",
       "      <td>NaN</td>\n",
       "      <td>...</td>\n",
       "      <td>False</td>\n",
       "      <td>False</td>\n",
       "      <td>False</td>\n",
       "      <td>False</td>\n",
       "      <td>False</td>\n",
       "      <td>False</td>\n",
       "      <td>False</td>\n",
       "      <td>False</td>\n",
       "      <td>high</td>\n",
       "      <td>z7</td>\n",
       "    </tr>\n",
       "  </tbody>\n",
       "</table>\n",
       "<p>10 rows × 793 columns</p>\n",
       "</div>"
      ],
      "text/plain": [
       "     phenotype         sex dilute                                  gwas_file  \\\n",
       "129       1050  both_sexes    NaN    1050.gwas.imputed_v3.both_sexes.tsv.bgz   \n",
       "130       1060  both_sexes    NaN    1060.gwas.imputed_v3.both_sexes.tsv.bgz   \n",
       "3214    6160_1  both_sexes    NaN  6160_1.gwas.imputed_v3.both_sexes.tsv.bgz   \n",
       "3224    6162_4  both_sexes    NaN  6162_4.gwas.imputed_v3.both_sexes.tsv.bgz   \n",
       "3227    6164_2  both_sexes    NaN  6164_2.gwas.imputed_v3.both_sexes.tsv.bgz   \n",
       "3228    6164_3  both_sexes    NaN  6164_3.gwas.imputed_v3.both_sexes.tsv.bgz   \n",
       "3272       864  both_sexes    NaN     864.gwas.imputed_v3.both_sexes.tsv.bgz   \n",
       "3275       884  both_sexes    NaN     884.gwas.imputed_v3.both_sexes.tsv.bgz   \n",
       "3276       894  both_sexes    NaN     894.gwas.imputed_v3.both_sexes.tsv.bgz   \n",
       "3277       904  both_sexes    NaN     904.gwas.imputed_v3.both_sexes.tsv.bgz   \n",
       "\n",
       "     variable_type  n_missing   source  \\\n",
       "129        ordinal      33477  phesant   \n",
       "130        ordinal      76305  phesant   \n",
       "3214        binary       1131  phesant   \n",
       "3224        binary       1870  phesant   \n",
       "3227        binary       1931  phesant   \n",
       "3228        binary       1931  phesant   \n",
       "3272       ordinal       6164  phesant   \n",
       "3275       ordinal      17251  phesant   \n",
       "3276       ordinal      92368  phesant   \n",
       "3277       ordinal      17110  phesant   \n",
       "\n",
       "                                            description       n   n_cases  \\\n",
       "129                       Time spend outdoors in summer  327717       NaN   \n",
       "130                       Time spent outdoors in winter  284889       NaN   \n",
       "3214      Leisure/social activities: Sports club or gym  360063  108473.0   \n",
       "3224    Types of transport used (excluding work): Cycle  359324   26059.0   \n",
       "3227  Types of physical activity in last 4 weeks: Ot...  359263  174242.0   \n",
       "3228  Types of physical activity in last 4 weeks: St...  359263   37297.0   \n",
       "3272             Number of days/week walked 10+ minutes  355030       NaN   \n",
       "3275  Number of days/week of moderate physical activ...  343943       NaN   \n",
       "3276                      Duration of moderate activity  268826       NaN   \n",
       "3277  Number of days/week of vigorous physical activ...  344084       NaN   \n",
       "\n",
       "      ...  isBadPower  isLowNeff  isMidNeff  isExtremeSE  isHighSE  isSexBias  \\\n",
       "129   ...       False      False      False        False     False      False   \n",
       "130   ...       False      False      False        False     False      False   \n",
       "3214  ...       False      False      False        False     False      False   \n",
       "3224  ...       False      False      False        False     False      False   \n",
       "3227  ...       False      False      False        False     False      False   \n",
       "3228  ...       False      False      False        False     False      False   \n",
       "3272  ...       False      False      False        False     False      False   \n",
       "3275  ...       False      False      False        False     False      False   \n",
       "3276  ...       False      False      False        False     False      False   \n",
       "3277  ...       False      False      False        False     False      False   \n",
       "\n",
       "      isBadOrdinal  isNumericOrdinal  conf_simple  h2_sig  \n",
       "129          False             False         high      z7  \n",
       "130          False             False         high      z7  \n",
       "3214         False             False         high      z7  \n",
       "3224         False             False         high      z7  \n",
       "3227         False             False         high      z7  \n",
       "3228         False             False         high      z7  \n",
       "3272         False             False         high      z7  \n",
       "3275         False             False         high      z7  \n",
       "3276         False             False         high      z7  \n",
       "3277         False             False         high      z7  \n",
       "\n",
       "[10 rows x 793 columns]"
      ]
     },
     "execution_count": 64,
     "metadata": {},
     "output_type": "execute_result"
    }
   ],
   "source": [
    "nealeh2_items.loc[nealeh2_items.phenotype.isin(items),]"
   ]
  },
  {
   "cell_type": "code",
   "execution_count": 69,
   "metadata": {},
   "outputs": [
    {
     "data": {
      "text/plain": [
       "217393"
      ]
     },
     "execution_count": 69,
     "metadata": {},
     "output_type": "execute_result"
    }
   ],
   "source": [
    "formodel[~formodel.isnull().any(axis=1)].shape[0]"
   ]
  }
 ],
 "metadata": {
  "kernelspec": {
   "display_name": "Python 3 (ipykernel)",
   "language": "python",
   "name": "python3"
  },
  "language_info": {
   "codemirror_mode": {
    "name": "ipython",
    "version": 3
   },
   "file_extension": ".py",
   "mimetype": "text/x-python",
   "name": "python",
   "nbconvert_exporter": "python",
   "pygments_lexer": "ipython3",
   "version": "3.9.13"
  }
 },
 "nbformat": 4,
 "nbformat_minor": 2
}
