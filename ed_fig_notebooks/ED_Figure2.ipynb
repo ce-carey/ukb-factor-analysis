{
 "cells": [
  {
   "cell_type": "code",
   "execution_count": 77,
   "metadata": {},
   "outputs": [],
   "source": [
    "import pandas as pd\n",
    "import numpy as np\n",
    "from itertools import chain\n",
    "import patsy\n",
    "import plotly.express as px\n",
    "import matplotlib.pyplot as plt\n",
    "import seaborn as sns\n",
    "import statsmodels\n",
    "import statsmodels.api as sm\n",
    "import statsmodels.formula.api as smf\n",
    "import colorcet as cc\n",
    "%matplotlib inline"
   ]
  },
  {
   "cell_type": "code",
   "execution_count": 78,
   "metadata": {},
   "outputs": [],
   "source": [
    "from IPython.display import display\n",
    "pd.set_option('display.max_rows', 1000)"
   ]
  },
  {
   "cell_type": "code",
   "execution_count": 79,
   "metadata": {},
   "outputs": [],
   "source": [
    "todrop = [\"X1249\", \"X134\", \"X1369\", \"X137\", \"X1379\", \"X1389\", \"X1418_2\", \"X1428_3\", \"X1707_2\", \"X1717\", \"X20002_1220\", \"X20116_0\", \"X20116_1\", \"X20126_3\", \"X20126_4\", \"X20126_5\", \"X20524\", \"X22506_114\", \"X22617_4217\", \"X24007\", \"X41248_1000\", \"X6138_100\", \"X6139_100\", \"X6140_100\", \"X6144_5\", \"X6145_100\", \"X6146_2\", \"X6146_3\", \"X6148_100\", \"X6148_2\", \"X6148_4\", \"X6149_100\", \"X6150_100\", \"X6152_100\", \"X6154_1\", \"X6154_100\", \"X6154_2\", \"X6154_3\", \"X6154_4\", \"X6154_5\", \"X6155_100\", \"X6159_100\", \"X6160_100\", \"X6179_100\", \"X680_2\", \"X680_4\", \"X709\",\"X6146_100\",\"X6142_4\",\"X20126_0\",\"X20003_1140884600\",\"X1448_3\",\"X20411_1\",\"X20405_1\",\"X680_3\"]"
   ]
  },
  {
   "cell_type": "code",
   "execution_count": 80,
   "metadata": {},
   "outputs": [],
   "source": [
    "datacov = pd.read_csv('/stanley/robinson/ccarey/UKBB/factor_gwas/factor_analysis/cfa/FINAL_CFA/TRAINING/redux10point2/for_jupyter/datacov.csv').drop(\"Unnamed: 0\",axis=1)\n",
    "modelcov = pd.read_csv('/stanley/robinson/ccarey/UKBB/factor_gwas/factor_analysis/cfa/FINAL_CFA/TRAINING/redux10point2/for_jupyter/modelcov.csv').drop(\"Unnamed: 0\",axis=1)"
   ]
  },
  {
   "cell_type": "code",
   "execution_count": 81,
   "metadata": {},
   "outputs": [],
   "source": [
    "dimnames = pd.read_csv('/stanley/robinson/ccarey/UKBB/factor_gwas/factor_analysis/cfa/FINAL_CFA/TRAINING/redux10point2/for_jupyter/dimnames.csv',header=None).drop(0)\n",
    "\n",
    "datacov.index = dimnames[1].values\n",
    "modelcov.index = dimnames[1].values\n",
    "datacov.columns = dimnames[1].values\n",
    "modelcov.columns = dimnames[1].values"
   ]
  },
  {
   "cell_type": "code",
   "execution_count": 82,
   "metadata": {},
   "outputs": [],
   "source": [
    "difference = abs(datacov - modelcov)"
   ]
  },
  {
   "cell_type": "code",
   "execution_count": 83,
   "metadata": {},
   "outputs": [],
   "source": [
    "#prepare factor dataframe\n",
    "factors = pd.read_table(\"/stanley/robinson/ccarey/UKBB/factor_gwas/factor_analysis/cfa/test_absfin_fin_loadings_fin_convcheck_orig_minres_36_withsmc_allgt0.1.txt\",header=None,names=['fieldname','factornum','loading'])\n",
    "fieldnamedict = pd.read_table(\"/stanley/robinson/ccarey/UKBB/factor_gwas/factor_analysis/phenos730_fields.tsv\")\n",
    "phenosummary = pd.read_table(\"/stanley/robinson/ccarey/UKBB/ukb_files/phenotypes.both_sexes.tsv\")\n",
    "#covars = pd.read_csv(\"/psych/genetics_data/projects/ukbb_sexdiff/family_based/ukb31063_fullsample_covariates.csv\",index_col=\"s\")\n",
    "\n",
    "factors[\"item\"] = factors.fieldname.apply(lambda x: \"X\"+fieldnamedict[fieldnamedict[\"name\"]==x].fieldID.values[0])\n",
    "factors[\"factor\"] = factors.factornum.apply(lambda x: \"f\"+str(x))\n",
    "\n",
    "factors_efa = factors.copy()\n",
    "\n",
    "phenosummary[\"phenotype\"] = phenosummary.apply(lambda x: \"41202_\"+x.phenotype if (x.source==\"icd10\") else x.phenotype,axis=1)\n",
    "\n",
    "factors[\"type\"] = factors.item.apply(lambda x: phenosummary[((\"X\"+phenosummary[\"phenotype\"])==x) | ((\"X\"+phenosummary[\"phenotype\"])==x+\"_raw\")].variable_type.values[0])\n",
    "factors[\"ordered\"] = factors.apply(lambda x: 0 if x.type==\"continuous_raw\" else 1,axis=1)"
   ]
  },
  {
   "cell_type": "code",
   "execution_count": 84,
   "metadata": {},
   "outputs": [],
   "source": [
    "#prepare correlation dataframes\n",
    "cormat = pd.read_csv('/stanley/robinson/ccarey/UKBB/factor_gwas/factor_analysis/cfa/FINAL/COR.csv').drop(\"Unnamed: 0\",axis=1)\n",
    "varnames = pd.read_csv('/stanley/robinson/ccarey/UKBB/factor_gwas/factor_analysis/cfa/FINAL/varnames.csv',header=None).drop(0)\n",
    "\n",
    "cormat.columns = varnames[1].values\n",
    "cormat.index = varnames[1].values\n",
    "\n",
    "phenoNames = pd.read_csv(\"/psych/genetics_data/ccarey/UKBB/factor_gwas/core_data_group/FA_core_FieldNames.csv\",index_col=\"Unnamed: 0\")\n",
    "\n",
    "phenolabels = pd.Series(phenoNames[\"name\"],index=phenoNames.index).to_dict()\n",
    "\n",
    "abs_cormat = abs(cormat)\n",
    "\n",
    "abs_cormat[\"fieldname\"] = [phenolabels[x[1:]] for x in abs_cormat.index]\n",
    "\n",
    "phenodata = pd.read_csv(\"/stanley/robinson/ccarey/UKBB/factor_gwas/factor_analysis/cfa/MI/core_data.csv\",index_col=\"userId\")\n",
    "\n",
    "nonmiss = phenodata.notnull()\n",
    "\n",
    "phenodata.columns = [\"X\"+x for x in phenodata.columns]\n",
    "\n",
    "nonmiss.columns = [\"X\"+x for x in nonmiss.columns]\n",
    "\n",
    "nomissdict = nonmiss.sum().to_dict()\n",
    "\n",
    "abs_cormat[\"nonmiss\"] = [nomissdict[x] for x in abs_cormat.index]"
   ]
  },
  {
   "cell_type": "code",
   "execution_count": 85,
   "metadata": {},
   "outputs": [],
   "source": [
    "#removals\n",
    "factors = factors[~factors.item.isin(todrop)]\n",
    "\n",
    "abs_cormat = abs_cormat.loc[~abs_cormat.index.isin(todrop),~abs_cormat.columns.isin(todrop)]"
   ]
  },
  {
   "cell_type": "code",
   "execution_count": 86,
   "metadata": {},
   "outputs": [],
   "source": [
    "#come back to this at some point... \n",
    "factors = factors[~(factors.factor==\"f8\")]"
   ]
  },
  {
   "cell_type": "code",
   "execution_count": 87,
   "metadata": {},
   "outputs": [
    {
     "data": {
      "text/plain": [
       "505"
      ]
     },
     "execution_count": 87,
     "metadata": {},
     "output_type": "execute_result"
    }
   ],
   "source": [
    "#number of remaining items, down from 564\n",
    "len(factors.item.unique())"
   ]
  },
  {
   "cell_type": "code",
   "execution_count": 88,
   "metadata": {},
   "outputs": [],
   "source": [
    "#add in current cfa loadings\n",
    "cfafactors = pd.read_csv(\"/stanley/robinson/ccarey/UKBB/factor_gwas/factor_analysis/cfa/FINAL_CFA/TRAINING/redux10point2/for_jupyter/loadings.txt\",sep=\"\\t\")\n",
    "factors = factors.sort_values([\"factor\",\"item\"])\n",
    "factors[\"cfaloading\"]=cfafactors.loading.values\n",
    "factors[\"cfaloading_abs\"]=abs(cfafactors.loading.values)"
   ]
  },
  {
   "cell_type": "code",
   "execution_count": 89,
   "metadata": {},
   "outputs": [],
   "source": [
    "factordict = factors.groupby('factor')[\"item\"].apply(lambda x: x.tolist()).to_dict()"
   ]
  },
  {
   "cell_type": "code",
   "execution_count": 90,
   "metadata": {},
   "outputs": [],
   "source": [
    "phenostructure = pd.read_csv('/stanley/genetics/analysis/ukbb_ldsc_round2/reference/Data_Dictionary_Showcase.csv',index_col=\"FieldID\")"
   ]
  },
  {
   "cell_type": "code",
   "execution_count": 91,
   "metadata": {},
   "outputs": [],
   "source": [
    "factors[\"origin\"] = factors[\"item\"].apply(lambda x: phenostructure.loc[int(x.split(\"_\")[0][1:]),\"Path\"])"
   ]
  },
  {
   "cell_type": "code",
   "execution_count": 92,
   "metadata": {},
   "outputs": [
    {
     "data": {
      "text/plain": [
       "Online follow-up > Work environment > Employment history                                                                   55\n",
       "UK Biobank Assessment Centre > Touchscreen > Psychosocial factors > Mental health                                          33\n",
       "UK Biobank Assessment Centre > Verbal interview > Medications                                                              29\n",
       "UK Biobank Assessment Centre > Touchscreen > Lifestyle and environment > Diet                                              29\n",
       "Health-related outcomes > Hospital in-patient > Diagnoses > Summary Information (diagnoses)                                27\n",
       "UK Biobank Assessment Centre > Touchscreen > Lifestyle and environment > Physical activity                                 20\n",
       "Online follow-up > Mental health > Traumatic events                                                                        18\n",
       "UK Biobank Assessment Centre > Touchscreen > Health and medical history > Medication                                       15\n",
       "UK Biobank Assessment Centre > Verbal interview > Medical conditions                                                       12\n",
       "UK Biobank Assessment Centre > Physical measures > Eye measures > Autorefraction                                           12\n",
       "UK Biobank Assessment Centre > Touchscreen > Sociodemographics > Household                                                 12\n",
       "Online follow-up > Mental health > Depression                                                                              11\n",
       "UK Biobank Assessment Centre > Touchscreen > Health and medical history > Medical conditions                               11\n",
       "Biological samples > Assay results > Blood assays > Blood count                                                            10\n",
       "UK Biobank Assessment Centre > Touchscreen > Family history                                                                 9\n",
       "Additional exposures > Local environment > Residential air pollution                                                        9\n",
       "Online follow-up > Mental health > Anxiety                                                                                  9\n",
       "UK Biobank Assessment Centre > Touchscreen > Health and medical history > Eyesight                                          8\n",
       "UK Biobank Assessment Centre > Touchscreen > Psychosocial factors > Social support                                          7\n",
       "UK Biobank Assessment Centre > Touchscreen > Health and medical history > Pain                                              7\n",
       "UK Biobank Assessment Centre > Touchscreen > Health and medical history > Hearing                                           7\n",
       "UK Biobank Assessment Centre > Touchscreen > Lifestyle and environment > Sleep                                              7\n",
       "Online follow-up > Work environment > Medical information                                                                   7\n",
       "UK Biobank Assessment Centre > Physical measures > Hearing test                                                             6\n",
       "UK Biobank Assessment Centre > Touchscreen > Sociodemographics > Education                                                  6\n",
       "UK Biobank Assessment Centre > Touchscreen > Lifestyle and environment > Electronic device use                              6\n",
       "Online follow-up > Mental health > Mental distress                                                                          6\n",
       "UK Biobank Assessment Centre > Physical measures > Eye measures > Intraocular pressure                                      6\n",
       "UK Biobank Assessment Centre > Touchscreen > Lifestyle and environment > Sun exposure                                       6\n",
       "UK Biobank Assessment Centre > Touchscreen > Lifestyle and environment > Alcohol                                            6\n",
       "UK Biobank Assessment Centre > Physical measures > Bone-densitometry of heel                                                6\n",
       "Online follow-up > Mental health > Alcohol use                                                                              5\n",
       "UK Biobank Assessment Centre > Physical measures > Anthropometry > Body size measures                                       5\n",
       "UK Biobank Assessment Centre > Recruitment > Reception                                                                      4\n",
       "UK Biobank Assessment Centre > Touchscreen > Early life factors                                                             4\n",
       "UK Biobank Assessment Centre > Touchscreen > Sociodemographics > Employment                                                 4\n",
       "UK Biobank Assessment Centre > Touchscreen > Health and medical history > General health                                    4\n",
       "UK Biobank Assessment Centre > Physical measures > Blood pressure                                                           3\n",
       "UK Biobank Assessment Centre > Touchscreen > Lifestyle and environment > Smoking                                            3\n",
       "Online follow-up > Mental health > Self-harm behaviours                                                                     3\n",
       "UK Biobank Assessment Centre > Touchscreen > Lifestyle and environment > Sexual factors                                     3\n",
       "Biological samples > Assay results > Urine assays                                                                           3\n",
       "UK Biobank Assessment Centre > Physical measures > Arterial stiffness                                                       3\n",
       "UK Biobank Assessment Centre > Cognitive function > Prospective memory                                                      3\n",
       "UK Biobank Assessment Centre > Physical measures > Spirometry                                                               3\n",
       "Online follow-up > Mental health > Happiness and subjective well-being                                                      3\n",
       "UK Biobank Assessment Centre > Touchscreen > Health and medical history > Mouth                                             3\n",
       "UK Biobank Assessment Centre > Physical measures > Eye measures > Visual acuity                                             2\n",
       "UK Biobank Assessment Centre > Cognitive function > Reaction time                                                           2\n",
       "Online follow-up > Mental health > Addictions                                                                               2\n",
       "UK Biobank Assessment Centre > Verbal interview > Early life factors                                                        2\n",
       "UK Biobank Assessment Centre > Cognitive function > Pairs matching                                                          2\n",
       "UK Biobank Assessment Centre > Physical measures > Hand grip strength                                                       2\n",
       "Online follow-up > Mental health > Unusual and psychotic experiences                                                        2\n",
       "Health-related outcomes > Hospital in-patient > Admission and discharge > Summary Information (admission and discharge)     2\n",
       "Online follow-up > Mental health > Mania                                                                                    2\n",
       "UK Biobank Assessment Centre > Cognitive function > Fluid intelligence                                                      2\n",
       "Additional exposures > Local environment > Home locations                                                                   2\n",
       "UK Biobank Assessment Centre > Touchscreen > Health and medical history > Breathing                                         2\n",
       "Additional exposures > Local environment > Residential noise pollution                                                      1\n",
       "Online follow-up > Mental health > Cannabis use                                                                             1\n",
       "Online follow-up > Diet by 24-hour recall > Diet questionnaire performance                                                  1\n",
       "UK Biobank Assessment Centre > Touchscreen > Health and medical history > Chest pain                                        1\n",
       "UK Biobank Assessment Centre > Physical measures > Eye measures > Eye surgery/complications                                 1\n",
       "Population characteristics > Baseline characteristics                                                                       1\n",
       "UK Biobank Assessment Centre > Physical measures > Anthropometry > Impedance measures                                       1\n",
       "UK Biobank Assessment Centre > Touchscreen > Sociodemographics > Other sociodemographic factors                             1\n",
       "UK Biobank Assessment Centre > Touchscreen > Health and medical history > Claudication and peripheral artery disease        1\n",
       "Health-related outcomes > Hospital in-patient > Psychiatric > Summary Information (psychiatric)                             1\n",
       "UK Biobank Assessment Centre > Touchscreen > Health and medical history > Cancer screening                                  1\n",
       "UK Biobank Assessment Centre > Verbal interview > Operations                                                                1\n",
       "Online follow-up > Work environment                                                                                         1\n",
       "Name: origin, dtype: int64"
      ]
     },
     "execution_count": 92,
     "metadata": {},
     "output_type": "execute_result"
    }
   ],
   "source": [
    "factors.drop_duplicates(\"item\").origin.value_counts()"
   ]
  },
  {
   "cell_type": "code",
   "execution_count": 93,
   "metadata": {},
   "outputs": [],
   "source": [
    "categorydict = pd.read_table(\"/stanley/robinson/ccarey/UKBB/factor_gwas/factor_analysis/cfa/FINAL_CFA/FACTOR_SCORES/core/newcode/figure1/categorydict_type.tsv\", sep=\"\\t\")"
   ]
  },
  {
   "cell_type": "code",
   "execution_count": 94,
   "metadata": {},
   "outputs": [],
   "source": [
    "mycatdict = dict(zip(categorydict.treestruct,categorydict.category))\n",
    "#dict(categorydict.groupby(\"category\")[\"treestruct\"].apply(list))"
   ]
  },
  {
   "cell_type": "code",
   "execution_count": 95,
   "metadata": {},
   "outputs": [],
   "source": [
    "categories = pd.DataFrame(index=factors.drop_duplicates(\"item\").item.values,data=factors.drop_duplicates(\"item\").origin.apply(lambda x: mycatdict[x]).values).reset_index()\n",
    "categories.columns=[\"item\",\"category\"]\n",
    "# categories.to_csv(\"/stanley/robinson/ccarey/UKBB/factor_gwas/factor_analysis/cfa/FINAL_CFA/FACTOR_SCORES/core/newcode/figure1/categories_type.csv\",index=False)"
   ]
  },
  {
   "cell_type": "code",
   "execution_count": null,
   "metadata": {},
   "outputs": [],
   "source": []
  },
  {
   "cell_type": "code",
   "execution_count": 96,
   "metadata": {},
   "outputs": [],
   "source": [
    "total = pd.read_csv('/stanley/robinson/ccarey/UKBB/factor_gwas/factor_analysis/cfa/FINAL_CFA/FACTOR_SCORES/core/newcode/figure1/FS_total.csv').set_index(\"Unnamed: 0\")\n",
    "factors = total.columns\n",
    "total.columns = [x+\"_total\" for x in total.columns]"
   ]
  },
  {
   "cell_type": "code",
   "execution_count": 97,
   "metadata": {},
   "outputs": [],
   "source": [
    "for i in range(6):\n",
    "    i=i+1\n",
    "    temp = pd.read_csv(\"/stanley/robinson/ccarey/UKBB/factor_gwas/factor_analysis/cfa/FINAL_CFA/FACTOR_SCORES/core/newcode/figure1/FS_cattype_\"+str(i)+\".csv\").set_index(\"Unnamed: 0\")\n",
    "    temp.columns = [x+\"_cat\"+str(i) for x in temp.columns]\n",
    "    total = total.join(temp,how=\"left\")"
   ]
  },
  {
   "cell_type": "code",
   "execution_count": 98,
   "metadata": {},
   "outputs": [],
   "source": [
    "# total.to_csv(\"/stanley/robinson/ccarey/UKBB/factor_gwas/factor_analysis/cfa/FINAL_CFA/FACTOR_SCORES/core/newcode/figure1/FS_cattype_all.csv\")"
   ]
  },
  {
   "cell_type": "code",
   "execution_count": null,
   "metadata": {},
   "outputs": [],
   "source": []
  },
  {
   "cell_type": "code",
   "execution_count": 99,
   "metadata": {},
   "outputs": [],
   "source": [
    "phenoNames = pd.read_csv(\"/psych/genetics_data/ccarey/UKBB/factor_gwas/core_data_group/FA_core_FieldNames.csv\",index_col=\"Unnamed: 0\")\n",
    "phenolabels = pd.Series(phenoNames[\"name\"],index=phenoNames.index).to_dict()"
   ]
  },
  {
   "cell_type": "code",
   "execution_count": 100,
   "metadata": {},
   "outputs": [],
   "source": [
    "top2 = pd.read_csv(\"/stanley/robinson/ccarey/UKBB/factor_gwas/factor_analysis/cfa/FINAL_CFA/FACTOR_SCORES/core/newcode/figure1/topitems_labels_short.csv\")"
   ]
  },
  {
   "cell_type": "code",
   "execution_count": 101,
   "metadata": {},
   "outputs": [],
   "source": [
    "#topitems[\"labels\"] = topitems.item.apply(lambda x: phenolabels[x[1:]]).values"
   ]
  },
  {
   "cell_type": "code",
   "execution_count": 102,
   "metadata": {},
   "outputs": [],
   "source": [
    "#top2 = topitems[topitems[\"rank\"]<3]"
   ]
  },
  {
   "cell_type": "code",
   "execution_count": 103,
   "metadata": {},
   "outputs": [],
   "source": [
    "factorlabels = pd.DataFrame(top2.groupby(\"factor\")[\"labels\"].apply(list))"
   ]
  },
  {
   "cell_type": "code",
   "execution_count": 104,
   "metadata": {},
   "outputs": [],
   "source": [
    "factorlabels[\"fulllabel\"] = factorlabels.apply(lambda x: x.labels[0]+\"\\n\"+x.labels[1],axis=1)"
   ]
  },
  {
   "cell_type": "code",
   "execution_count": 105,
   "metadata": {},
   "outputs": [],
   "source": [
    "#top2.to_csv(\"/stanley/robinson/ccarey/UKBB/factor_gwas/factor_analysis/cfa/FINAL_CFA/FACTOR_SCORES/core/newcode/figure1/topitems_labels_short.csv\")"
   ]
  },
  {
   "cell_type": "code",
   "execution_count": 106,
   "metadata": {},
   "outputs": [
    {
     "data": {
      "text/html": [
       "<div>\n",
       "<style scoped>\n",
       "    .dataframe tbody tr th:only-of-type {\n",
       "        vertical-align: middle;\n",
       "    }\n",
       "\n",
       "    .dataframe tbody tr th {\n",
       "        vertical-align: top;\n",
       "    }\n",
       "\n",
       "    .dataframe thead th {\n",
       "        text-align: right;\n",
       "    }\n",
       "</style>\n",
       "<table border=\"1\" class=\"dataframe\">\n",
       "  <thead>\n",
       "    <tr style=\"text-align: right;\">\n",
       "      <th></th>\n",
       "      <th>labels</th>\n",
       "      <th>fulllabel</th>\n",
       "    </tr>\n",
       "    <tr>\n",
       "      <th>factor</th>\n",
       "      <th></th>\n",
       "      <th></th>\n",
       "    </tr>\n",
       "  </thead>\n",
       "  <tbody>\n",
       "    <tr>\n",
       "      <th>f1</th>\n",
       "      <td>[Recent inability to stop or control worrying,...</td>\n",
       "      <td>Recent inability to stop or control worrying\\n...</td>\n",
       "    </tr>\n",
       "    <tr>\n",
       "      <th>f10</th>\n",
       "      <td>[College or University degree, Year ended full...</td>\n",
       "      <td>College or University degree\\nYear ended full ...</td>\n",
       "    </tr>\n",
       "    <tr>\n",
       "      <th>f11</th>\n",
       "      <td>[Doctor diagnosed asthma, Blood clot, ..., all...</td>\n",
       "      <td>Doctor diagnosed asthma\\nBlood clot, ..., alle...</td>\n",
       "    </tr>\n",
       "    <tr>\n",
       "      <th>f12</th>\n",
       "      <td>[Vascular/heart problems: High blood pressure,...</td>\n",
       "      <td>Vascular/heart problems: High blood pressure\\n...</td>\n",
       "    </tr>\n",
       "    <tr>\n",
       "      <th>f13</th>\n",
       "      <td>[Mineral &amp; dietary supplements: Fish oil, Mine...</td>\n",
       "      <td>Mineral &amp; dietary supplements: Fish oil\\nMiner...</td>\n",
       "    </tr>\n",
       "    <tr>\n",
       "      <th>f14</th>\n",
       "      <td>[Long-standing illness, disability or infirmit...</td>\n",
       "      <td>Long-standing illness, disability or infirmity...</td>\n",
       "    </tr>\n",
       "    <tr>\n",
       "      <th>f15</th>\n",
       "      <td>[People in household: Husband, wife or partner...</td>\n",
       "      <td>People in household: Husband, wife or partner\\...</td>\n",
       "    </tr>\n",
       "    <tr>\n",
       "      <th>f16</th>\n",
       "      <td>[Vascular/heart problems: Heart attack, Main I...</td>\n",
       "      <td>Vascular/heart problems: Heart attack\\nMain IC...</td>\n",
       "    </tr>\n",
       "    <tr>\n",
       "      <th>f17</th>\n",
       "      <td>[Number of jobs held, Workplace very noisy: Ra...</td>\n",
       "      <td>Number of jobs held\\nWorkplace very noisy: Rar...</td>\n",
       "    </tr>\n",
       "    <tr>\n",
       "      <th>f18</th>\n",
       "      <td>[Pain type(s) experienced in last month: Heada...</td>\n",
       "      <td>Pain type(s) experienced in last month: Headac...</td>\n",
       "    </tr>\n",
       "    <tr>\n",
       "      <th>f19</th>\n",
       "      <td>[Heel bone mineral density (left), Heel bone m...</td>\n",
       "      <td>Heel bone mineral density (left)\\nHeel bone mi...</td>\n",
       "    </tr>\n",
       "    <tr>\n",
       "      <th>f2</th>\n",
       "      <td>[Happiness (-), Fed-up feelings]</td>\n",
       "      <td>Happiness (-)\\nFed-up feelings</td>\n",
       "    </tr>\n",
       "    <tr>\n",
       "      <th>f20</th>\n",
       "      <td>[Hospital episode type: General episode, Diagn...</td>\n",
       "      <td>Hospital episode type: General episode\\nDiagno...</td>\n",
       "    </tr>\n",
       "    <tr>\n",
       "      <th>f21</th>\n",
       "      <td>[Forced vital capacity (FVC), Forced expirator...</td>\n",
       "      <td>Forced vital capacity (FVC)\\nForced expiratory...</td>\n",
       "    </tr>\n",
       "    <tr>\n",
       "      <th>f22</th>\n",
       "      <td>[Alcohol intake frequency, Frequency of drinki...</td>\n",
       "      <td>Alcohol intake frequency\\nFrequency of drinkin...</td>\n",
       "    </tr>\n",
       "    <tr>\n",
       "      <th>f23</th>\n",
       "      <td>[Days/week of vigorous physical activity 10+ m...</td>\n",
       "      <td>Days/week of vigorous physical activity 10+ mi...</td>\n",
       "    </tr>\n",
       "    <tr>\n",
       "      <th>f24</th>\n",
       "      <td>[3mm asymmetry index (left), 3mm asymmetry ind...</td>\n",
       "      <td>3mm asymmetry index (left)\\n3mm asymmetry inde...</td>\n",
       "    </tr>\n",
       "    <tr>\n",
       "      <th>f25</th>\n",
       "      <td>[Other eye problems, Non-cancer illness code, ...</td>\n",
       "      <td>Other eye problems\\nNon-cancer illness code, s...</td>\n",
       "    </tr>\n",
       "    <tr>\n",
       "      <th>f26</th>\n",
       "      <td>[Intra-ocular pressure, Goldmann-correlated (l...</td>\n",
       "      <td>Intra-ocular pressure, Goldmann-correlated (le...</td>\n",
       "    </tr>\n",
       "    <tr>\n",
       "      <th>f27</th>\n",
       "      <td>[Spherical power (right), Spherical power (left)]</td>\n",
       "      <td>Spherical power (right)\\nSpherical power (left)</td>\n",
       "    </tr>\n",
       "    <tr>\n",
       "      <th>f28</th>\n",
       "      <td>[Diabetes diagnosed by doctor, Treatment/medic...</td>\n",
       "      <td>Diabetes diagnosed by doctor\\nTreatment/medica...</td>\n",
       "    </tr>\n",
       "    <tr>\n",
       "      <th>f29</th>\n",
       "      <td>[In paid employment or self-employed (-), Reti...</td>\n",
       "      <td>In paid employment or self-employed (-)\\nRetired</td>\n",
       "    </tr>\n",
       "    <tr>\n",
       "      <th>f3</th>\n",
       "      <td>[Seen doctor for nerves, anxiety, tension or d...</td>\n",
       "      <td>Seen doctor for nerves, anxiety, tension or de...</td>\n",
       "    </tr>\n",
       "    <tr>\n",
       "      <th>f30</th>\n",
       "      <td>[Creatinine (enzymatic) in urine, White blood ...</td>\n",
       "      <td>Creatinine (enzymatic) in urine\\nWhite blood c...</td>\n",
       "    </tr>\n",
       "    <tr>\n",
       "      <th>f31</th>\n",
       "      <td>[Treatment/medication code: omeprazole, Non-ca...</td>\n",
       "      <td>Treatment/medication code: omeprazole\\nNon-can...</td>\n",
       "    </tr>\n",
       "    <tr>\n",
       "      <th>f32</th>\n",
       "      <td>[Signal-to-noise-ratio (SNR) of triplet (right...</td>\n",
       "      <td>Signal-to-noise-ratio (SNR) of triplet (right)...</td>\n",
       "    </tr>\n",
       "    <tr>\n",
       "      <th>f33</th>\n",
       "      <td>[Home location, assessment - east co-ordinate ...</td>\n",
       "      <td>Home location, assessment - east co-ordinate (...</td>\n",
       "    </tr>\n",
       "    <tr>\n",
       "      <th>f34</th>\n",
       "      <td>[Time to complete round (-), Number of incorre...</td>\n",
       "      <td>Time to complete round (-)\\nNumber of incorrec...</td>\n",
       "    </tr>\n",
       "    <tr>\n",
       "      <th>f35</th>\n",
       "      <td>[Neutrophill percentage, Lymphocyte percentage...</td>\n",
       "      <td>Neutrophill percentage\\nLymphocyte percentage ...</td>\n",
       "    </tr>\n",
       "    <tr>\n",
       "      <th>f36</th>\n",
       "      <td>[Usual side of head for mobile phone use: Righ...</td>\n",
       "      <td>Usual side of head for mobile phone use: Right...</td>\n",
       "    </tr>\n",
       "    <tr>\n",
       "      <th>f4</th>\n",
       "      <td>[Nitrogen dioxide air pollution; 2010, Nitroge...</td>\n",
       "      <td>Nitrogen dioxide air pollution; 2010\\nNitrogen...</td>\n",
       "    </tr>\n",
       "    <tr>\n",
       "      <th>f5</th>\n",
       "      <td>[Workplace very noisy: Often, Workplace very c...</td>\n",
       "      <td>Workplace very noisy: Often\\nWorkplace very co...</td>\n",
       "    </tr>\n",
       "    <tr>\n",
       "      <th>f6</th>\n",
       "      <td>[Ever smoked, Tobacco smoking: Ex-smoker]</td>\n",
       "      <td>Ever smoked\\nTobacco smoking: Ex-smoker</td>\n",
       "    </tr>\n",
       "    <tr>\n",
       "      <th>f7</th>\n",
       "      <td>[Body mass index (BMI), Waist circumference]</td>\n",
       "      <td>Body mass index (BMI)\\nWaist circumference</td>\n",
       "    </tr>\n",
       "    <tr>\n",
       "      <th>f9</th>\n",
       "      <td>[Felt hated by family member as a child, Ever ...</td>\n",
       "      <td>Felt hated by family member as a child\\nEver c...</td>\n",
       "    </tr>\n",
       "  </tbody>\n",
       "</table>\n",
       "</div>"
      ],
      "text/plain": [
       "                                                   labels  \\\n",
       "factor                                                      \n",
       "f1      [Recent inability to stop or control worrying,...   \n",
       "f10     [College or University degree, Year ended full...   \n",
       "f11     [Doctor diagnosed asthma, Blood clot, ..., all...   \n",
       "f12     [Vascular/heart problems: High blood pressure,...   \n",
       "f13     [Mineral & dietary supplements: Fish oil, Mine...   \n",
       "f14     [Long-standing illness, disability or infirmit...   \n",
       "f15     [People in household: Husband, wife or partner...   \n",
       "f16     [Vascular/heart problems: Heart attack, Main I...   \n",
       "f17     [Number of jobs held, Workplace very noisy: Ra...   \n",
       "f18     [Pain type(s) experienced in last month: Heada...   \n",
       "f19     [Heel bone mineral density (left), Heel bone m...   \n",
       "f2                       [Happiness (-), Fed-up feelings]   \n",
       "f20     [Hospital episode type: General episode, Diagn...   \n",
       "f21     [Forced vital capacity (FVC), Forced expirator...   \n",
       "f22     [Alcohol intake frequency, Frequency of drinki...   \n",
       "f23     [Days/week of vigorous physical activity 10+ m...   \n",
       "f24     [3mm asymmetry index (left), 3mm asymmetry ind...   \n",
       "f25     [Other eye problems, Non-cancer illness code, ...   \n",
       "f26     [Intra-ocular pressure, Goldmann-correlated (l...   \n",
       "f27     [Spherical power (right), Spherical power (left)]   \n",
       "f28     [Diabetes diagnosed by doctor, Treatment/medic...   \n",
       "f29     [In paid employment or self-employed (-), Reti...   \n",
       "f3      [Seen doctor for nerves, anxiety, tension or d...   \n",
       "f30     [Creatinine (enzymatic) in urine, White blood ...   \n",
       "f31     [Treatment/medication code: omeprazole, Non-ca...   \n",
       "f32     [Signal-to-noise-ratio (SNR) of triplet (right...   \n",
       "f33     [Home location, assessment - east co-ordinate ...   \n",
       "f34     [Time to complete round (-), Number of incorre...   \n",
       "f35     [Neutrophill percentage, Lymphocyte percentage...   \n",
       "f36     [Usual side of head for mobile phone use: Righ...   \n",
       "f4      [Nitrogen dioxide air pollution; 2010, Nitroge...   \n",
       "f5      [Workplace very noisy: Often, Workplace very c...   \n",
       "f6              [Ever smoked, Tobacco smoking: Ex-smoker]   \n",
       "f7           [Body mass index (BMI), Waist circumference]   \n",
       "f9      [Felt hated by family member as a child, Ever ...   \n",
       "\n",
       "                                                fulllabel  \n",
       "factor                                                     \n",
       "f1      Recent inability to stop or control worrying\\n...  \n",
       "f10     College or University degree\\nYear ended full ...  \n",
       "f11     Doctor diagnosed asthma\\nBlood clot, ..., alle...  \n",
       "f12     Vascular/heart problems: High blood pressure\\n...  \n",
       "f13     Mineral & dietary supplements: Fish oil\\nMiner...  \n",
       "f14     Long-standing illness, disability or infirmity...  \n",
       "f15     People in household: Husband, wife or partner\\...  \n",
       "f16     Vascular/heart problems: Heart attack\\nMain IC...  \n",
       "f17     Number of jobs held\\nWorkplace very noisy: Rar...  \n",
       "f18     Pain type(s) experienced in last month: Headac...  \n",
       "f19     Heel bone mineral density (left)\\nHeel bone mi...  \n",
       "f2                         Happiness (-)\\nFed-up feelings  \n",
       "f20     Hospital episode type: General episode\\nDiagno...  \n",
       "f21     Forced vital capacity (FVC)\\nForced expiratory...  \n",
       "f22     Alcohol intake frequency\\nFrequency of drinkin...  \n",
       "f23     Days/week of vigorous physical activity 10+ mi...  \n",
       "f24     3mm asymmetry index (left)\\n3mm asymmetry inde...  \n",
       "f25     Other eye problems\\nNon-cancer illness code, s...  \n",
       "f26     Intra-ocular pressure, Goldmann-correlated (le...  \n",
       "f27       Spherical power (right)\\nSpherical power (left)  \n",
       "f28     Diabetes diagnosed by doctor\\nTreatment/medica...  \n",
       "f29      In paid employment or self-employed (-)\\nRetired  \n",
       "f3      Seen doctor for nerves, anxiety, tension or de...  \n",
       "f30     Creatinine (enzymatic) in urine\\nWhite blood c...  \n",
       "f31     Treatment/medication code: omeprazole\\nNon-can...  \n",
       "f32     Signal-to-noise-ratio (SNR) of triplet (right)...  \n",
       "f33     Home location, assessment - east co-ordinate (...  \n",
       "f34     Time to complete round (-)\\nNumber of incorrec...  \n",
       "f35     Neutrophill percentage\\nLymphocyte percentage ...  \n",
       "f36     Usual side of head for mobile phone use: Right...  \n",
       "f4      Nitrogen dioxide air pollution; 2010\\nNitrogen...  \n",
       "f5      Workplace very noisy: Often\\nWorkplace very co...  \n",
       "f6                Ever smoked\\nTobacco smoking: Ex-smoker  \n",
       "f7             Body mass index (BMI)\\nWaist circumference  \n",
       "f9      Felt hated by family member as a child\\nEver c...  "
      ]
     },
     "execution_count": 106,
     "metadata": {},
     "output_type": "execute_result"
    }
   ],
   "source": [
    "factorlabels"
   ]
  },
  {
   "cell_type": "code",
   "execution_count": 107,
   "metadata": {},
   "outputs": [
    {
     "data": {
      "text/plain": [
       "'Recent inability to stop or control worrying\\nRecent worrying too much about different things'"
      ]
     },
     "execution_count": 107,
     "metadata": {},
     "output_type": "execute_result"
    }
   ],
   "source": [
    "factorlabels.loc[\"f1\",\"labels\"][0]+\"\\n\"+factorlabels.loc[\"f1\",\"labels\"][1]"
   ]
  },
  {
   "cell_type": "code",
   "execution_count": 108,
   "metadata": {},
   "outputs": [],
   "source": [
    "pctvar = pd.read_csv(\"/stanley/robinson/ccarey/UKBB/factor_gwas/factor_analysis/cfa/FINAL_CFA/FACTOR_SCORES/core/newcode/figure1/pctvar_hierparttype.csv\").set_index(\"Unnamed: 0\")"
   ]
  },
  {
   "cell_type": "code",
   "execution_count": 109,
   "metadata": {},
   "outputs": [],
   "source": [
    "catkey = pd.read_table(\"/stanley/robinson/ccarey/UKBB/factor_gwas/factor_analysis/cfa/FINAL_CFA/FACTOR_SCORES/core/newcode/figure1/categorykey_type.tsv\")\n",
    "\n",
    "catkey = dict(zip(catkey.catnum,catkey.catname))\n",
    "\n",
    "pctvar.index = catkey.values()"
   ]
  },
  {
   "cell_type": "code",
   "execution_count": 110,
   "metadata": {},
   "outputs": [],
   "source": [
    "pctvar.columns = [x.upper() for x in pctvar.columns]"
   ]
  },
  {
   "cell_type": "code",
   "execution_count": 111,
   "metadata": {
    "scrolled": false
   },
   "outputs": [
    {
     "name": "stderr",
     "output_type": "stream",
     "text": [
      "The PostScript backend does not support transparency; partially transparent artists will be rendered opaque.\n"
     ]
    },
    {
     "data": {
      "image/png": "[encoded data removed]",
      "text/plain": [
       "<Figure size 1039.2x1800 with 1 Axes>"
      ]
     },
     "metadata": {},
     "output_type": "display_data"
    }
   ],
   "source": [
    "fig, ax1 = plt.subplots(figsize=(3.464,6),dpi=300)\n",
    "mydf=pctvar.T.loc[::-1]\n",
    "x = mydf.index\n",
    "indexes = np.argsort(mydf.values).T\n",
    "widths = np.sort(mydf.values).T\n",
    "order = -1\n",
    "lefts = widths[::order].cumsum(axis=0)\n",
    "lefts = np.insert(lefts, 0, np.zeros(len(lefts[0])), axis=0)\n",
    "\n",
    "mpp_colors = dict(zip(mydf.columns, plt.cm.get_cmap(\"Set3\").colors))\n",
    "#mpp_colors[\"self-reported health & medical history\"] = plt.cm.get_cmap(\"Set3\").colors[11]\n",
    "\n",
    "for k, (idxs, vals) in enumerate(list(zip(indexes, widths))[::order]):\n",
    "    mps = np.take(np.array(mydf.columns), idxs)\n",
    "    ax1.barh(x, width=vals, height=0.9,left=lefts[k], color=[mpp_colors[m] for m in mps])\n",
    "    \n",
    "ax1.legend((np.take(np.array(mydf.columns), np.argsort(mydf.values)[0]))[::-1], bbox_to_anchor=(0.5, -0.33), loc='lower center', fontsize=7)\n",
    "ax1.set_xlim([0,1])\n",
    "ax1.set_ylim([-0.5,34.5])\n",
    "ax1.tick_params(axis='both', which='major', labelsize=6)\n",
    "\n",
    "fig.tight_layout()\n",
    "\n",
    "plt.xlabel(\"Proportion Variance Explained\",fontsize=7)\n",
    "plt.savefig(\"/stanley/robinson/ccarey/factor_paper_revision/edfigs_CEC/EDFig2.eps\") #,bbox_inches=\"tight\")"
   ]
  },
  {
   "cell_type": "code",
   "execution_count": null,
   "metadata": {
    "collapsed": true
   },
   "outputs": [],
   "source": []
  }
 ],
 "metadata": {
  "kernelspec": {
   "display_name": "Python 3",
   "language": "python",
   "name": "python3"
  },
  "language_info": {
   "codemirror_mode": {
    "name": "ipython",
    "version": 3
   },
   "file_extension": ".py",
   "mimetype": "text/x-python",
   "name": "python",
   "nbconvert_exporter": "python",
   "pygments_lexer": "ipython3",
   "version": "3.9.13"
  }
 },
 "nbformat": 4,
 "nbformat_minor": 2
}
